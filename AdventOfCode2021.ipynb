{
 "cells": [
  {
   "cell_type": "code",
   "execution_count": 1,
   "metadata": {},
   "outputs": [],
   "source": [
    "import os\n",
    "os.environ[\"AOC_SESSION\"] = \"53616c7465645f5fe3a26a621eccffe07198b16f4da73d3bd101febe1b9c6428f4d781679e113c58fa1dc25c83d043b5\""
   ]
  },
  {
   "cell_type": "code",
   "execution_count": 2,
   "metadata": {},
   "outputs": [],
   "source": [
    "import pandas as pd\n",
    "import numpy as np\n",
    "from aocd.models import Puzzle\n",
    "from aocd.transforms import numbers, lines"
   ]
  },
  {
   "cell_type": "markdown",
   "metadata": {
    "jp-MarkdownHeadingCollapsed": true,
    "tags": []
   },
   "source": [
    "# Day 3"
   ]
  },
  {
   "cell_type": "markdown",
   "metadata": {
    "heading_collapsed": "true"
   },
   "source": [
    "## Part 1"
   ]
  },
  {
   "cell_type": "code",
   "execution_count": null,
   "metadata": {},
   "outputs": [],
   "source": [
    "from aocd.models import Puzzle\n",
    "from aocd.transforms import numbers\n",
    "puzzle = Puzzle(year=2021, day=3)\n",
    "data = numbers(puzzle.input_data)"
   ]
  },
  {
   "cell_type": "code",
   "execution_count": null,
   "metadata": {},
   "outputs": [],
   "source": [
    "data[:10]"
   ]
  },
  {
   "cell_type": "code",
   "execution_count": null,
   "metadata": {},
   "outputs": [],
   "source": [
    "# How many bits does each line have?\n",
    "max([len(str(i)) for i in data])"
   ]
  },
  {
   "cell_type": "code",
   "execution_count": null,
   "metadata": {},
   "outputs": [],
   "source": [
    "data_str = [str(i).zfill(12) for i in data]\n",
    "data_str[:10]"
   ]
  },
  {
   "cell_type": "code",
   "execution_count": null,
   "metadata": {},
   "outputs": [],
   "source": [
    "data_str = [[b for b in s] for s in data_str]\n",
    "data_str[:10]"
   ]
  },
  {
   "cell_type": "code",
   "execution_count": null,
   "metadata": {},
   "outputs": [],
   "source": [
    "df = pd.DataFrame(data_str).astype(int)\n",
    "\n",
    "gamma_rate = ''.join((df.sum(axis = 0) > 500).astype(int).astype(str))\n",
    "epsilon_rate = ''.join((df.sum(axis = 0) < 500).astype(int).astype(str))\n",
    "\n",
    "print(gamma_rate)\n",
    "print(epsilon_rate)"
   ]
  },
  {
   "cell_type": "code",
   "execution_count": null,
   "metadata": {},
   "outputs": [],
   "source": [
    "int(gamma_rate, 2)"
   ]
  },
  {
   "cell_type": "code",
   "execution_count": null,
   "metadata": {},
   "outputs": [],
   "source": [
    "int(epsilon_rate, 2)"
   ]
  },
  {
   "cell_type": "code",
   "execution_count": null,
   "metadata": {},
   "outputs": [],
   "source": [
    "int(gamma_rate, 2)*int(epsilon_rate, 2)"
   ]
  },
  {
   "cell_type": "markdown",
   "metadata": {
    "heading_collapsed": "true"
   },
   "source": [
    "## Part 2"
   ]
  },
  {
   "cell_type": "code",
   "execution_count": null,
   "metadata": {},
   "outputs": [],
   "source": [
    "current_result_oxygen = df.copy()\n",
    "\n",
    "for i in range(12):\n",
    "    \n",
    "    counts = current_result_oxygen[i].value_counts()\n",
    "    \n",
    "    # If both digits are equally common\n",
    "    if len(counts) == 2 and counts[0] == counts[1]:\n",
    "        current_result_oxygen = current_result_oxygen[current_result_oxygen[i] == 1]\n",
    "    else:\n",
    "        most_common = counts.idxmax()\n",
    "        current_result_oxygen = current_result_oxygen[current_result_oxygen[i] == most_common]\n",
    "        \n",
    "    if len(current_result_oxygen) == 1: break"
   ]
  },
  {
   "cell_type": "code",
   "execution_count": null,
   "metadata": {},
   "outputs": [],
   "source": [
    "oxygen_generator_rating = ''.join(current_result_oxygen.astype(str).iloc[0])\n",
    "print(oxygen_generator_rating)\n",
    "print(int(oxygen_generator_rating, 2))"
   ]
  },
  {
   "cell_type": "code",
   "execution_count": null,
   "metadata": {},
   "outputs": [],
   "source": [
    "current_result_co2 = df.copy()\n",
    "\n",
    "for i in range(12):\n",
    "    \n",
    "    counts = current_result_co2[i].value_counts()\n",
    "\n",
    "    # If both digits are equally common\n",
    "    if len(counts) == 2 and counts[0] == counts[1]:\n",
    "        current_result_co2 = current_result_co2[current_result_co2[i] == 0]\n",
    "    else:\n",
    "        least_common = counts.idxmin()\n",
    "        current_result_co2 = current_result_co2[current_result_co2[i] == least_common]\n",
    "        \n",
    "    if len(current_result_co2) == 1: break"
   ]
  },
  {
   "cell_type": "code",
   "execution_count": null,
   "metadata": {},
   "outputs": [],
   "source": [
    "co2_scrubber_rating = ''.join(current_result_co2.astype(str).iloc[0])\n",
    "print(co2_scrubber_rating)\n",
    "print(int(co2_scrubber_rating, 2))"
   ]
  },
  {
   "cell_type": "code",
   "execution_count": null,
   "metadata": {},
   "outputs": [],
   "source": [
    "int(oxygen_generator_rating, 2)*int(co2_scrubber_rating, 2)"
   ]
  },
  {
   "cell_type": "markdown",
   "metadata": {
    "heading_collapsed": "true",
    "jp-MarkdownHeadingCollapsed": true,
    "tags": []
   },
   "source": [
    "# Day 4"
   ]
  },
  {
   "cell_type": "markdown",
   "metadata": {
    "jp-MarkdownHeadingCollapsed": true,
    "tags": []
   },
   "source": [
    "## Part 1"
   ]
  },
  {
   "cell_type": "code",
   "execution_count": null,
   "metadata": {
    "tags": []
   },
   "outputs": [],
   "source": [
    "puzzle = Puzzle(year=2021, day=4)\n",
    "data = lines(puzzle.input_data)\n",
    "data = [d for d in data if d != '']\n",
    "data"
   ]
  },
  {
   "cell_type": "code",
   "execution_count": null,
   "metadata": {
    "tags": []
   },
   "outputs": [],
   "source": [
    "drawn_numbers = data[0].split(',')\n",
    "boards = [[x for x in board.split(' ') if x] for board in data[1:]]\n",
    "boards = np.array([boards[i*5:(i+1)*5] for i in range(100)])\n",
    "boards"
   ]
  },
  {
   "cell_type": "code",
   "execution_count": null,
   "metadata": {},
   "outputs": [],
   "source": [
    "def check_if_board_wins(board):\n",
    "    return (board.sum(axis = 0) == 5).any() or (board.sum(axis = 1) == 5).any()\n",
    "\n",
    "marked_boards = np.zeros(boards.shape).astype(bool)\n",
    "\n",
    "for number in drawn_numbers:\n",
    "\n",
    "    marked_boards = marked_boards | (boards == number)\n",
    "    winning_boards = list(map(check_if_board_wins, marked_boards))\n",
    "    \n",
    "    if any(winning_boards):\n",
    "        print(\"We have a winner!\")\n",
    "        last_called_number = int(number)\n",
    "        print(f\"Called number: {last_called_number}\")\n",
    "        winner = boards[winning_boards, :, :]\n",
    "        print(winner)\n",
    "        break"
   ]
  },
  {
   "cell_type": "code",
   "execution_count": null,
   "metadata": {},
   "outputs": [],
   "source": [
    "marked_boards[winning_boards, :, :]"
   ]
  },
  {
   "cell_type": "code",
   "execution_count": null,
   "metadata": {},
   "outputs": [],
   "source": [
    "winner_marked_numbers = marked_boards[winning_boards, :, :]\n",
    "unmarked_numbers = winner.astype(int)*(1 - winner_marked_numbers)\n",
    "unmarked_numbers = unmarked_numbers[0, :, :]\n",
    "unmarked_numbers.sum()"
   ]
  },
  {
   "cell_type": "code",
   "execution_count": null,
   "metadata": {},
   "outputs": [],
   "source": [
    "unmarked_numbers.sum()*last_called_number"
   ]
  },
  {
   "cell_type": "markdown",
   "metadata": {
    "tags": []
   },
   "source": [
    "## Part 2"
   ]
  },
  {
   "cell_type": "code",
   "execution_count": null,
   "metadata": {},
   "outputs": [],
   "source": [
    "def check_if_board_does_not_win(board):\n",
    "    return ((board.sum(axis = 0) == 5).sum() + (board.sum(axis = 1) == 5).sum()) == 0\n",
    "\n",
    "marked_boards = np.ones(boards.shape).astype(bool)\n",
    "\n",
    "for number in drawn_numbers[::-1]:\n",
    "    \n",
    "    marked_boards[(boards == number)] = False\n",
    "    boards_on_the_verge_of_winning = list(map(check_if_board_does_not_win, marked_boards))\n",
    "    \n",
    "    if any(boards_on_the_verge_of_winning):\n",
    "        print(\"We have the last winner!\")\n",
    "        last_called_number = int(number)\n",
    "        print(f\"Called number: {last_called_number}\")\n",
    "        winner = boards[boards_on_the_verge_of_winning, :, :]\n",
    "        print(winner)\n",
    "        break"
   ]
  },
  {
   "cell_type": "code",
   "execution_count": null,
   "metadata": {},
   "outputs": [],
   "source": [
    "marked_boards[boards_on_the_verge_of_winning, :, :]"
   ]
  },
  {
   "cell_type": "code",
   "execution_count": null,
   "metadata": {},
   "outputs": [],
   "source": [
    "winner_marked_numbers = marked_boards[boards_on_the_verge_of_winning, :, :]\n",
    "unmarked_numbers = winner.astype(int)*(1 - winner_marked_numbers)\n",
    "unmarked_numbers = unmarked_numbers[0, :, :]\n",
    "unmarked_numbers.sum() - last_called_number"
   ]
  },
  {
   "cell_type": "code",
   "execution_count": null,
   "metadata": {},
   "outputs": [],
   "source": [
    "(unmarked_numbers.sum() - last_called_number) * last_called_number"
   ]
  },
  {
   "cell_type": "markdown",
   "metadata": {
    "heading_collapsed": "true",
    "jp-MarkdownHeadingCollapsed": true,
    "tags": []
   },
   "source": [
    "# Day 5"
   ]
  },
  {
   "cell_type": "markdown",
   "metadata": {
    "jp-MarkdownHeadingCollapsed": true,
    "tags": []
   },
   "source": [
    "## Part 1"
   ]
  },
  {
   "cell_type": "code",
   "execution_count": null,
   "metadata": {
    "tags": []
   },
   "outputs": [],
   "source": [
    "puzzle = Puzzle(year=2021, day=5)\n",
    "data = lines(puzzle.input_data)\n",
    "data[:5]"
   ]
  },
  {
   "cell_type": "code",
   "execution_count": null,
   "metadata": {},
   "outputs": [],
   "source": [
    "\"\"\"data = ['0,9 -> 5,9',\n",
    "'8,0 -> 0,8',\n",
    "'9,4 -> 3,4',\n",
    "'2,2 -> 2,1',\n",
    "'7,0 -> 7,4',\n",
    "'6,4 -> 2,0',\n",
    "'0,9 -> 2,9',\n",
    "'3,4 -> 1,4',\n",
    "'0,0 -> 8,8',\n",
    "'5,5 -> 8,2']\"\"\";"
   ]
  },
  {
   "cell_type": "code",
   "execution_count": null,
   "metadata": {},
   "outputs": [],
   "source": [
    "start_points = np.asarray([x.split(' -> ')[0].split(',') for x in data]).astype(int)\n",
    "end_points = np.asarray([x.split(' -> ')[1].split(',') for x in data]).astype(int)"
   ]
  },
  {
   "cell_type": "code",
   "execution_count": null,
   "metadata": {},
   "outputs": [],
   "source": [
    "floor_size = max(start_points.max(), end_points.max()) + 1\n",
    "floor = np.zeros((floor_size, floor_size))\n",
    "\n",
    "horizontal_lines_idx = start_points[:, 0] == end_points[:, 0]\n",
    "vertical_lines_idx = start_points[:, 1] == end_points[:, 1]\n",
    "\n",
    "# horizontal lines\n",
    "for idx in np.where(start_points[:, 0] == end_points[:, 0])[0]:\n",
    "    x1, y1 = start_points[idx, :]\n",
    "    x2, y2 = end_points[idx, :]\n",
    "    if y2 < y1:\n",
    "        input_score_board, y1\n",
    "        y1 = y2\n",
    "        y2 = input_score_board, output_score_board\n",
    "    floor[x1, y1:y2 + 1] += 1\n",
    "    \n",
    "# vertical lines\n",
    "for idx in np.where(start_points[:, 1] == end_points[:, 1])[0]:\n",
    "    x1, y1 = start_points[idx, :]\n",
    "    x2, y2 = end_points[idx, :]\n",
    "    if x2 < x1:\n",
    "        input_score_board, x1\n",
    "        x1 = x2\n",
    "        x2 = input_score_board, output_score_board\n",
    "    floor[x1:x2+1, y1] += 1"
   ]
  },
  {
   "cell_type": "code",
   "execution_count": null,
   "metadata": {},
   "outputs": [],
   "source": [
    "(floor >= 2).sum()"
   ]
  },
  {
   "cell_type": "markdown",
   "metadata": {},
   "source": [
    "## Part 2"
   ]
  },
  {
   "cell_type": "code",
   "execution_count": null,
   "metadata": {},
   "outputs": [],
   "source": [
    "# Lines are diagonal is difference between x2 and x1 is equal to the difference between y2 and y1\n",
    "floor_w_diagonal = floor.copy()"
   ]
  },
  {
   "cell_type": "code",
   "execution_count": null,
   "metadata": {},
   "outputs": [],
   "source": [
    "floor_w_diagonal = floor.copy()\n",
    "directions = end_points - start_points\n",
    "\n",
    "for idx in np.where(abs(directions)[:, 0] == abs(directions)[:, 1])[0]:\n",
    "\n",
    "    direction = end_points[idx] - start_points[idx]\n",
    "    n_steps = abs(direction[0])\n",
    "\n",
    "    for i in range(n_steps + 1):\n",
    "        x, y = (start_points[idx] + direction*i/n_steps).astype(int)\n",
    "        floor_w_diagonal[x, y] += 1"
   ]
  },
  {
   "cell_type": "code",
   "execution_count": null,
   "metadata": {},
   "outputs": [],
   "source": [
    "(floor_w_diagonal >= 2).sum()"
   ]
  },
  {
   "cell_type": "markdown",
   "metadata": {
    "heading_collapsed": "true",
    "jp-MarkdownHeadingCollapsed": true,
    "tags": []
   },
   "source": [
    "# Day 6"
   ]
  },
  {
   "cell_type": "code",
   "execution_count": null,
   "metadata": {},
   "outputs": [],
   "source": [
    "puzzle = Puzzle(year=2021, day=6)\n",
    "data = puzzle.input_data.split(',')\n",
    "data = [int(d) for d in data]\n",
    "data[:5]"
   ]
  },
  {
   "cell_type": "code",
   "execution_count": null,
   "metadata": {},
   "outputs": [],
   "source": [
    "def count_n_fish(data, n_days):\n",
    "    fish_level_count = pd.value_counts(data)\n",
    "    fish_level_count = fish_level_count.reindex(index = list(range(9))).fillna(0).astype(int)\n",
    "    for day in range(n_days):\n",
    "        state_at_end_of_day = fish_level_count.shift(-1).fillna(0)\n",
    "        state_at_end_of_day[8] += fish_level_count[0]\n",
    "        state_at_end_of_day[6] += fish_level_count[0]\n",
    "        fish_level_count = state_at_end_of_day.copy()\n",
    "    return fish_level_count.sum()"
   ]
  },
  {
   "cell_type": "code",
   "execution_count": null,
   "metadata": {},
   "outputs": [],
   "source": [
    "print(count_n_fish([3,4,3,1,2], 18))\n",
    "print(count_n_fish([3,4,3,1,2], 80))\n",
    "print(count_n_fish([3,4,3,1,2], 256))"
   ]
  },
  {
   "cell_type": "code",
   "execution_count": null,
   "metadata": {},
   "outputs": [],
   "source": [
    "print(count_n_fish(data, 18))\n",
    "print(count_n_fish(data, 80))\n",
    "print(count_n_fish(data, 256))"
   ]
  },
  {
   "cell_type": "code",
   "execution_count": null,
   "metadata": {},
   "outputs": [],
   "source": [
    "%%time\n",
    "print(count_n_fish(data, int(1000)))"
   ]
  },
  {
   "cell_type": "code",
   "execution_count": null,
   "metadata": {},
   "outputs": [],
   "source": [
    "%%time\n",
    "print(count_n_fish(data, int(10000)))"
   ]
  },
  {
   "cell_type": "markdown",
   "metadata": {
    "heading_collapsed": "true",
    "jp-MarkdownHeadingCollapsed": true,
    "tags": []
   },
   "source": [
    "# Day 7"
   ]
  },
  {
   "cell_type": "code",
   "execution_count": null,
   "metadata": {},
   "outputs": [],
   "source": [
    "puzzle = Puzzle(year=2021, day=7)\n",
    "data = puzzle.input_data.split(',')\n",
    "data = np.asarray([int(d) for d in data])\n",
    "data[:5]"
   ]
  },
  {
   "cell_type": "code",
   "execution_count": null,
   "metadata": {},
   "outputs": [],
   "source": [
    "best_fuel = np.inf\n",
    "best_position = 0\n",
    "\n",
    "for final_position in range(data.min(), data.max() + 1):\n",
    "    fuel_spent = abs(data - final_position).sum()\n",
    "    if fuel_spent < best_fuel:\n",
    "        best_fuel = fuel_spent\n",
    "        best_position = final_position\n",
    "print(best_position, best_fuel)"
   ]
  },
  {
   "cell_type": "code",
   "execution_count": null,
   "metadata": {},
   "outputs": [],
   "source": [
    "best_fuel = np.inf\n",
    "best_position = 0\n",
    "\n",
    "for final_position in range(data.min(), data.max() + 1):\n",
    "    \n",
    "    fuel_spent = 0\n",
    "    for crab_position in data:\n",
    "        fuel_spent += sum(range(abs(crab_position - final_position) + 1))\n",
    "    \n",
    "    if fuel_spent < best_fuel:\n",
    "        best_fuel = fuel_spent\n",
    "        best_position = final_position\n",
    "print(best_position, best_fuel)"
   ]
  },
  {
   "cell_type": "markdown",
   "metadata": {
    "heading_collapsed": "true",
    "jp-MarkdownHeadingCollapsed": true,
    "tags": []
   },
   "source": [
    "# Day 8"
   ]
  },
  {
   "cell_type": "markdown",
   "metadata": {},
   "source": [
    "## Part 1"
   ]
  },
  {
   "cell_type": "code",
   "execution_count": null,
   "metadata": {
    "tags": []
   },
   "outputs": [],
   "source": [
    "puzzle = Puzzle(year=2021, day=8)\n",
    "data = lines(puzzle.input_data)#.split(',')\n",
    "#data = np.asarray([int(d) for d in data])\n",
    "data[:5]"
   ]
  },
  {
   "cell_type": "code",
   "execution_count": null,
   "metadata": {},
   "outputs": [],
   "source": [
    "output_digits = [e.split(' | ')[1] for e in data]\n",
    "output_digits_joined = ' '.join(output_digits).split(' ')\n",
    "output_digits_joined[:5]"
   ]
  },
  {
   "cell_type": "code",
   "execution_count": null,
   "metadata": {},
   "outputs": [],
   "source": [
    "output_length = list(map(len, output_digits_joined))"
   ]
  },
  {
   "cell_type": "code",
   "execution_count": null,
   "metadata": {},
   "outputs": [],
   "source": [
    "(np.array(output_length) == 2).sum() + (np.array(output_length) == 3).sum() + (np.array(output_length) == 4).sum() + (np.array(output_length) == 7).sum()"
   ]
  },
  {
   "cell_type": "markdown",
   "metadata": {},
   "source": [
    "## Part 2"
   ]
  },
  {
   "cell_type": "code",
   "execution_count": null,
   "metadata": {},
   "outputs": [],
   "source": [
    "input_digits = [e.split(' | ')[0] for e in data]\n",
    "def contains_n_character_string(s, n_characters):\n",
    "    return n_characters in list(map(len, s.split(' ')))"
   ]
  },
  {
   "cell_type": "code",
   "execution_count": null,
   "metadata": {},
   "outputs": [],
   "source": [
    "all(map(lambda x: contains_n_character_string(x, 2), input_digits))"
   ]
  },
  {
   "cell_type": "code",
   "execution_count": null,
   "metadata": {},
   "outputs": [],
   "source": [
    "all(map(lambda x: contains_n_character_string(x, 3), input_digits))"
   ]
  },
  {
   "cell_type": "code",
   "execution_count": null,
   "metadata": {},
   "outputs": [],
   "source": [
    "all(map(lambda x: contains_n_character_string(x, 4), input_digits))"
   ]
  },
  {
   "cell_type": "code",
   "execution_count": null,
   "metadata": {},
   "outputs": [],
   "source": [
    "all(map(lambda x: contains_n_character_string(x, 7), input_digits))"
   ]
  },
  {
   "cell_type": "code",
   "execution_count": null,
   "metadata": {},
   "outputs": [],
   "source": [
    "data[0]"
   ]
  },
  {
   "cell_type": "code",
   "execution_count": null,
   "metadata": {},
   "outputs": [],
   "source": [
    "def decode_digits(line):\n",
    "    \n",
    "    input_pattern, output_pattern = line.split(' | ')\n",
    "    \n",
    "    def segment_to_digit_mapping(s, segment_mapping):\n",
    "    \n",
    "        if len(s) == 2: return 1\n",
    "        if len(s) == 3: return 7\n",
    "        if len(s) == 4: return 4\n",
    "        if len(s) == 7: return 8\n",
    "\n",
    "        scrambled_string = np.asarray([letter for letter in s])\n",
    "        unscrambled_string = np.asarray([letter for letter in s])\n",
    "        for original_key, scrambled_key in segment_mapping.items():\n",
    "            unscrambled_string[scrambled_string == scrambled_key] = original_key\n",
    "        s = ''.join(unscrambled_string)\n",
    "\n",
    "        if 'd' not in s: return 0\n",
    "        if 'f' not in s: return 2\n",
    "        if 'e' in s: return 6\n",
    "        if 'c' not in s: return 5\n",
    "        if 'b' in s: return 9\n",
    "        return 3\n",
    "    \n",
    "    segment_mapping = {}\n",
    "\n",
    "    pattern = np.asarray(input_pattern.split(' '))\n",
    "    input_digit_length = np.asarray(list(map(len, pattern)))\n",
    "    digit_w_2_character = pattern[input_digit_length == 2][0]\n",
    "    digit_w_3_character = pattern[input_digit_length == 3][0]\n",
    "    digit_w_4_character = pattern[input_digit_length == 4][0]\n",
    "    digit_w_7_character = pattern[input_digit_length == 7][0]\n",
    "\n",
    "    segment_mapping['a'] = [letter for letter in digit_w_3_character if letter not in digit_w_2_character][0]\n",
    "\n",
    "    possible_right_segments = [letter for letter in digit_w_2_character]\n",
    "    possible_top_left_middle_segments = [letter for letter in digit_w_4_character if letter not in possible_right_segments]\n",
    "    possible_bottom_left_bottom_segments = [letter for letter in digit_w_7_character if letter != segment_mapping['a'] and letter not in possible_right_segments and letter not in possible_top_left_middle_segments]\n",
    "\n",
    "    digits_w_6_characters = pattern[input_digit_length == 6]\n",
    "    for digit in digits_w_6_characters:\n",
    "        missing_character = [letter for letter in ['a', 'b', 'c', 'd', 'e', 'f', 'g'] if letter not in digit][0]\n",
    "        if missing_character in possible_right_segments:\n",
    "            segment_mapping['c'] = missing_character\n",
    "            possible_right_segments.remove(missing_character)\n",
    "            segment_mapping['f'] = possible_right_segments[0]\n",
    "        elif missing_character in possible_top_left_middle_segments:\n",
    "            segment_mapping['d'] = missing_character\n",
    "            possible_top_left_middle_segments.remove(missing_character)\n",
    "            segment_mapping['b'] = possible_top_left_middle_segments[0]\n",
    "        elif missing_character in possible_bottom_left_bottom_segments:\n",
    "            segment_mapping['e'] = missing_character\n",
    "            possible_bottom_left_bottom_segments.remove(missing_character)\n",
    "            segment_mapping['g'] = possible_bottom_left_bottom_segments[0]\n",
    "\n",
    "    return ''.join(map(lambda s: str(segment_to_digit_mapping(s, segment_mapping)), output_pattern.split(' ')))"
   ]
  },
  {
   "cell_type": "code",
   "execution_count": null,
   "metadata": {},
   "outputs": [],
   "source": [
    "decoded_values = [int(x) for x in list(map(decode_digits, data))]\n",
    "decoded_values"
   ]
  },
  {
   "cell_type": "code",
   "execution_count": null,
   "metadata": {},
   "outputs": [],
   "source": [
    "sum(decoded_values)"
   ]
  },
  {
   "cell_type": "markdown",
   "metadata": {
    "heading_collapsed": "true",
    "jp-MarkdownHeadingCollapsed": true,
    "tags": []
   },
   "source": [
    "# Day 9"
   ]
  },
  {
   "cell_type": "code",
   "execution_count": null,
   "metadata": {
    "tags": []
   },
   "outputs": [],
   "source": [
    "puzzle = Puzzle(year=2021, day=9)\n",
    "data = lines(puzzle.input_data)\n",
    "data = list(map(lambda x: [e for e in x], data))\n",
    "data = np.asarray(data).astype(int)\n",
    "data"
   ]
  },
  {
   "cell_type": "code",
   "execution_count": null,
   "metadata": {},
   "outputs": [],
   "source": [
    "data = ['2199943210',\n",
    "'3987894921',\n",
    "'9856789892',\n",
    "'8767896789',\n",
    "'9899965678']\n",
    "data = list(map(lambda x: [e for e in x], data))\n",
    "data = np.asarray(data).astype(int)\n",
    "data"
   ]
  },
  {
   "cell_type": "code",
   "execution_count": null,
   "metadata": {},
   "outputs": [],
   "source": [
    "data.shape"
   ]
  },
  {
   "cell_type": "code",
   "execution_count": null,
   "metadata": {},
   "outputs": [],
   "source": [
    "low_points = []\n",
    "low_point_positions = []\n",
    "\n",
    "for i in range(data.shape[0]):\n",
    "    for j in range(data.shape[1]):\n",
    "        \n",
    "        point = data[i, j]\n",
    "        # Check if top is lower\n",
    "        if i != 0 and data[i-1, j] <= point: continue\n",
    "        # Check if bottom is lower\n",
    "        if i != (data.shape[0] - 1) and data[i+1, j] <= point: continue\n",
    "        #Check if left is lower\n",
    "        if j != 0 and data[i, j-1] <= point: continue\n",
    "        # Check if right is lower\n",
    "        if j != (data.shape[1] - 1) and data[i, j+1] <= point: continue\n",
    "        low_points.append(point)\n",
    "        low_point_positions.append((i, j))"
   ]
  },
  {
   "cell_type": "code",
   "execution_count": null,
   "metadata": {},
   "outputs": [],
   "source": [
    "sum(np.asarray(low_points) + 1)"
   ]
  },
  {
   "cell_type": "code",
   "execution_count": null,
   "metadata": {},
   "outputs": [],
   "source": [
    "basin_sizes = []\n",
    "explored_areas = np.zeros_like(data)\n",
    "explored_areas[data == 9] = 1\n",
    "for low_point in low_point_positions:\n",
    "    seed_points = set([low_point])\n",
    "    size = 0\n",
    "    while len(seed_points) > 0:\n",
    "        #print(seed_points)\n",
    "        i, j = seed_points.pop()\n",
    "        explored_areas[i, j] = 1\n",
    "        size += 1\n",
    "        if i != 0 and explored_areas[i-1, j] != 1: seed_points.add((i-1, j))\n",
    "        if i != data.shape[0] - 1 and explored_areas[i+1, j] != 1: seed_points.add((i+1, j))\n",
    "        if j != 0 and explored_areas[i, j-1] != 1: seed_points.add((i, j-1))\n",
    "        if j != data.shape[1] - 1 and explored_areas[i, j+1] != 1: seed_points.add((i, j+1))\n",
    "\n",
    "    basin_sizes.append(size)\n",
    "    \n",
    "basin_sizes.sort()"
   ]
  },
  {
   "cell_type": "code",
   "execution_count": null,
   "metadata": {
    "tags": []
   },
   "outputs": [],
   "source": [
    "basin_sizes[-5:]"
   ]
  },
  {
   "cell_type": "code",
   "execution_count": null,
   "metadata": {},
   "outputs": [],
   "source": [
    "basin_sizes[-1] * basin_sizes[-2] * basin_sizes[-3]"
   ]
  },
  {
   "cell_type": "markdown",
   "metadata": {
    "heading_collapsed": "true",
    "jp-MarkdownHeadingCollapsed": true,
    "tags": []
   },
   "source": [
    "# Day 10"
   ]
  },
  {
   "cell_type": "code",
   "execution_count": null,
   "metadata": {
    "tags": []
   },
   "outputs": [],
   "source": [
    "puzzle = Puzzle(year=2021, day=10)\n",
    "data = lines(puzzle.input_data)\n",
    "data[:5]"
   ]
  },
  {
   "cell_type": "code",
   "execution_count": null,
   "metadata": {},
   "outputs": [],
   "source": [
    "data = [\"[({(<(())[]>[[{[]{<()<>>\",\n",
    "\"[(()[<>])]({[<{<<[]>>(\",\n",
    "\"{([(<{}[<>[]}>{[]{[(<()>\",\n",
    "\"(((({<>}<{<{<>}{[]{[]{}\",\n",
    "\"[[<[([]))<([[{}[[()]]]\",\n",
    "\"[{[{({}]{}}([{[{{{}}([]\",\n",
    "\"{<[[]]>}<{[{[{[]{()[[[]\",\n",
    "\"[<(<(<(<{}))><([]([]()\",\n",
    "\"<{([([[(<>()){}]>(<<{{\",\n",
    "\"<{([{{}}[<[[[<>{}]]]>[]]\"]"
   ]
  },
  {
   "cell_type": "code",
   "execution_count": null,
   "metadata": {},
   "outputs": [],
   "source": [
    "opening_characters = \"{([<\"\n",
    "closing_characters = \"})]>\"\n",
    "\n",
    "opening_closing_character_mapping = {\"{\":\"}\", \"(\":\")\", \"[\":\"]\", \"<\":\">\"}\n",
    "\n",
    "score = 0\n",
    "\n",
    "for line in data:\n",
    "    while len(line) > 1:\n",
    "        line = line.replace(\"()\", \"\")\n",
    "        line = line.replace(\"[]\", \"\")\n",
    "        line = line.replace(\"{}\", \"\")\n",
    "        line = line.replace(\"<>\", \"\")\n",
    "\n",
    "        if \"()\" not in line and \"{}\" not in line and\"[]\" not in line and \"<>\" not in line: break\n",
    "    \"\"\"\n",
    "    if len(line) == 0: print(\"Line is complete and non corrupt\")\n",
    "    elif len(line) > 1 and (all(map(lambda x: x in opening_characters, line)) or all(map(lambda x: x in closing_characters, line))): print(\"Line is incomplete\")\n",
    "    else: \n",
    "        print(\"Line is corrupt\")\n",
    "    \"\"\"\n",
    "    if not all(map(lambda x: x in opening_characters, line)):\n",
    "        queue = []\n",
    "        for character in line:\n",
    "            if character in opening_characters: queue.append(character)\n",
    "            else:\n",
    "                if character == opening_closing_character_mapping[queue[-1]]: queue.pop()\n",
    "                else: \n",
    "                    #print(\"First illegal character: \", character)\n",
    "                    if character == \")\": score += 3\n",
    "                    if character == \"]\": score += 57\n",
    "                    if character == \"}\": score += 1197\n",
    "                    if character == \">\": score += 25137\n",
    "                    break\n",
    "                \n",
    "print(score)"
   ]
  },
  {
   "cell_type": "code",
   "execution_count": null,
   "metadata": {},
   "outputs": [],
   "source": [
    "opening_characters = \"{([<\"\n",
    "closing_characters = \"})]>\"\n",
    "\n",
    "opening_closing_character_mapping = {\"{\":\"}\", \"(\":\")\", \"[\":\"]\", \"<\":\">\"}\n",
    "\n",
    "scores = []\n",
    "\n",
    "for line in data:\n",
    "    while len(line) > 1:\n",
    "        line = line.replace(\"()\", \"\")\n",
    "        line = line.replace(\"[]\", \"\")\n",
    "        line = line.replace(\"{}\", \"\")\n",
    "        line = line.replace(\"<>\", \"\")\n",
    "\n",
    "        if \"()\" not in line and \"{}\" not in line and\"[]\" not in line and \"<>\" not in line: break\n",
    "\n",
    "    if len(line) == 0: continue\n",
    "    if all(map(lambda x: x in opening_characters, line)):\n",
    "        score = 0\n",
    "        for c in line[::-1]:\n",
    "            score *= 5\n",
    "            if c == '(': score += 1\n",
    "            if c == '[': score += 2\n",
    "            if c == '{': score += 3\n",
    "            if c == '<': score += 4\n",
    "            \n",
    "        scores.append(score)"
   ]
  },
  {
   "cell_type": "code",
   "execution_count": null,
   "metadata": {},
   "outputs": [],
   "source": [
    "np.median(scores)"
   ]
  },
  {
   "cell_type": "markdown",
   "metadata": {
    "heading_collapsed": "true",
    "jp-MarkdownHeadingCollapsed": true,
    "tags": []
   },
   "source": [
    "# Day 11"
   ]
  },
  {
   "cell_type": "code",
   "execution_count": null,
   "metadata": {},
   "outputs": [],
   "source": [
    "data = ['5483143223',\n",
    "'2745854711',\n",
    "'5264556173',\n",
    "'6141336146',\n",
    "'6357385478',\n",
    "'4167524645',\n",
    "'2176841721',\n",
    "'6882881134',\n",
    "'4846848554',\n",
    "'5283751526']"
   ]
  },
  {
   "cell_type": "code",
   "execution_count": null,
   "metadata": {},
   "outputs": [],
   "source": [
    "puzzle = Puzzle(year=2021, day=11)\n",
    "data = lines(puzzle.input_data)\n",
    "data[:5]"
   ]
  },
  {
   "cell_type": "code",
   "execution_count": null,
   "metadata": {},
   "outputs": [],
   "source": [
    "energy_levels = np.asarray([[int(d) for d in line] for line in data])\n",
    "energy_levels"
   ]
  },
  {
   "cell_type": "code",
   "execution_count": null,
   "metadata": {},
   "outputs": [],
   "source": [
    "n_steps = 100\n",
    "current_energy_level = energy_levels.copy()\n",
    "flash_count = 0\n",
    "for step in range(n_steps):\n",
    "    current_energy_level += 1\n",
    "    i, j = np.where(current_energy_level > 9)\n",
    "    seed_points = set(zip(list(i), list(j)))\n",
    "    flashed = np.zeros_like(current_energy_level)\n",
    "    while len(seed_points) > 0:\n",
    "        i, j = seed_points.pop()\n",
    "        flashed[i, j] = 1\n",
    "\n",
    "        # Increase each neighbour and check if it becomes > 9\n",
    "        for x in range(max(i-1, 0), min(i+1, current_energy_level.shape[0] - 1) + 1):\n",
    "            for y in range(max(j-1, 0), min(j+1, current_energy_level.shape[1] - 1) + 1):\n",
    "                current_energy_level[x, y] += 1\n",
    "                if current_energy_level[x, y] > 9 and flashed[x, y] == 0: seed_points.add((x, y))\n",
    "    current_energy_level[flashed == 1] = 0\n",
    "    flash_count += flashed.sum()\n",
    "    \n",
    "flash_count"
   ]
  },
  {
   "cell_type": "code",
   "execution_count": null,
   "metadata": {},
   "outputs": [],
   "source": [
    "current_energy_level = energy_levels.copy()\n",
    "step_count = 0\n",
    "flashed = np.zeros_like(current_energy_level)\n",
    "while not flashed.all():\n",
    "    current_energy_level += 1\n",
    "    i, j = np.where(current_energy_level > 9)\n",
    "    seed_points = set(zip(list(i), list(j)))\n",
    "    flashed = np.zeros_like(current_energy_level)\n",
    "    while len(seed_points) > 0:\n",
    "        i, j = seed_points.pop()\n",
    "        flashed[i, j] = 1\n",
    "\n",
    "        # Increase each neighbour and check if it becomes > 9\n",
    "        for x in range(max(i-1, 0), min(i+1, current_energy_level.shape[0] - 1) + 1):\n",
    "            for y in range(max(j-1, 0), min(j+1, current_energy_level.shape[1] - 1) + 1):\n",
    "                current_energy_level[x, y] += 1\n",
    "                if current_energy_level[x, y] > 9 and flashed[x, y] == 0: seed_points.add((x, y))\n",
    "    current_energy_level[flashed == 1] = 0\n",
    "    step_count += 1\n",
    "    \n",
    "step_count"
   ]
  },
  {
   "cell_type": "code",
   "execution_count": null,
   "metadata": {},
   "outputs": [],
   "source": []
  },
  {
   "cell_type": "markdown",
   "metadata": {
    "jp-MarkdownHeadingCollapsed": true,
    "tags": []
   },
   "source": [
    "# Day 12"
   ]
  },
  {
   "cell_type": "code",
   "execution_count": null,
   "metadata": {},
   "outputs": [],
   "source": [
    "puzzle = Puzzle(year=2021, day=12)\n",
    "data = lines(puzzle.input_data)\n",
    "data[:5]"
   ]
  },
  {
   "cell_type": "code",
   "execution_count": null,
   "metadata": {},
   "outputs": [],
   "source": [
    "data = [\"start-A\",\n",
    "\"start-b\",\n",
    "\"A-c\",\n",
    "\"A-b\",\n",
    "\"b-d\",\n",
    "\"A-end\",\n",
    "\"b-end\"]"
   ]
  },
  {
   "cell_type": "code",
   "execution_count": null,
   "metadata": {},
   "outputs": [],
   "source": [
    "data = [\"dc-end\",\n",
    "\"HN-start\",\n",
    "\"start-kj\",\n",
    "\"dc-start\",\n",
    "\"dc-HN\",\n",
    "\"LN-dc\",\n",
    "\"HN-end\",\n",
    "\"kj-sa\",\n",
    "\"kj-HN\",\n",
    "\"kj-dc\"]"
   ]
  },
  {
   "cell_type": "code",
   "execution_count": null,
   "metadata": {},
   "outputs": [],
   "source": [
    "data = [\"fs-end\",\n",
    "\"he-DX\",\n",
    "\"fs-he\",\n",
    "\"start-DX\",\n",
    "\"pj-DX\",\n",
    "\"end-zg\",\n",
    "\"zg-sl\",\n",
    "\"zg-pj\",\n",
    "\"pj-he\",\n",
    "\"RW-he\",\n",
    "\"fs-DX\",\n",
    "\"pj-RW\",\n",
    "\"zg-RW\",\n",
    "\"start-pj\",\n",
    "\"he-WI\",\n",
    "\"zg-he\",\n",
    "\"pj-fs\",\n",
    "\"start-RW\"]"
   ]
  },
  {
   "cell_type": "code",
   "execution_count": null,
   "metadata": {},
   "outputs": [],
   "source": [
    "all_possible_paths = []\n",
    "start_points = [point for point in data if \"start\" in point]\n",
    "start_points"
   ]
  },
  {
   "cell_type": "code",
   "execution_count": null,
   "metadata": {},
   "outputs": [],
   "source": [
    "def find_visitable_points(start_point, data):\n",
    "    available_paths = [point for point in data if start_point + \"-\" in point or \"-\" + start_point in point]\n",
    "    visitable_points = set([point.replace(start_point, \"\").replace(\"-\", \"\") for point in available_paths])\n",
    "    visitable_points = [point for point in visitable_points if point != 'start'] # Don't want to go back to the start\n",
    "    return visitable_points"
   ]
  },
  {
   "cell_type": "code",
   "execution_count": null,
   "metadata": {},
   "outputs": [],
   "source": [
    "from collections import Counter\n",
    "open_paths = [[\"start\", p] for p in find_visitable_points(\"start\", data)]\n",
    "closed_paths = []\n",
    "\n",
    "while len(open_paths) > 0:\n",
    "    working_path = open_paths.pop()\n",
    "   \n",
    "    # check if there is any small cave being visited twice and ignore it if that's the case\n",
    "    cave_visit_count = Counter(working_path)\n",
    "    if any([k for k,v in cave_visit_count.items() if v > 1 and k.islower()]):\n",
    "        continue\n",
    "    \n",
    "    # If we've already reached the end  append the path to the closed_paths list\n",
    "    if working_path[-1] == 'end':\n",
    "         closed_paths.append(working_path)\n",
    "    else:\n",
    "        visitable_points = find_visitable_points(working_path[-1], data)\n",
    "        open_paths += [working_path.copy() + [p] for p in visitable_points]"
   ]
  },
  {
   "cell_type": "code",
   "execution_count": null,
   "metadata": {
    "tags": []
   },
   "outputs": [],
   "source": [
    "closed_paths "
   ]
  },
  {
   "cell_type": "code",
   "execution_count": null,
   "metadata": {},
   "outputs": [],
   "source": [
    "len(closed_paths)"
   ]
  },
  {
   "cell_type": "code",
   "execution_count": null,
   "metadata": {},
   "outputs": [],
   "source": [
    "from collections import Counter\n",
    "open_paths = [[\"start\", p] for p in find_visitable_points(\"start\", data)]\n",
    "closed_paths = []\n",
    "\n",
    "while len(open_paths) > 0:\n",
    "    working_path = open_paths.pop()\n",
    "   \n",
    "    # check if there is any small cave being visited twice and ignore it if that's the case\n",
    "    small_cave_visit_count = {k:v for k,v in Counter(working_path).items() if k.islower()}\n",
    "    if max(small_cave_visit_count.values()) > 2 or sum(small_cave_visit_count.values()) > len(small_cave_visit_count.values()) + 1:\n",
    "        continue\n",
    "    \n",
    "    # If we've already reached the end  append the path to the closed_paths list\n",
    "    if working_path[-1] == 'end':\n",
    "         closed_paths.append(working_path)\n",
    "    else:\n",
    "        visitable_points = find_visitable_points(working_path[-1], data)\n",
    "        open_paths += [working_path.copy() + [p] for p in visitable_points]"
   ]
  },
  {
   "cell_type": "code",
   "execution_count": null,
   "metadata": {},
   "outputs": [],
   "source": [
    "len(closed_paths)"
   ]
  },
  {
   "cell_type": "code",
   "execution_count": null,
   "metadata": {},
   "outputs": [],
   "source": [
    "def find_paths(current_node = 'start', path = []):\n",
    "    \n",
    "    path.append(current_node)\n",
    "    \n",
    "    if current_node == 'end': \n",
    "        all_paths.append(path)\n",
    "        return\n",
    "    \n",
    "    small_cave_visit_count = {k:v for k,v in Counter(path).items() if k.islower()}\n",
    "    if max(small_cave_visit_count.values()) > 2 or sum(small_cave_visit_count.values()) > len(small_cave_visit_count.values()) + 1:\n",
    "        return\n",
    "    \n",
    "    visitable_points = find_visitable_points(current_node, data)\n",
    "    for point in visitable_points:\n",
    "        find_paths(point, path.copy())"
   ]
  },
  {
   "cell_type": "code",
   "execution_count": null,
   "metadata": {},
   "outputs": [],
   "source": [
    "all_paths = []\n",
    "find_paths()\n",
    "len(all_paths)"
   ]
  },
  {
   "cell_type": "markdown",
   "metadata": {
    "jp-MarkdownHeadingCollapsed": true,
    "tags": []
   },
   "source": [
    "# Day 13"
   ]
  },
  {
   "cell_type": "code",
   "execution_count": null,
   "metadata": {},
   "outputs": [],
   "source": [
    "puzzle = Puzzle(year=2021, day=13)\n",
    "data = lines(puzzle.input_data)\n",
    "data[:5]"
   ]
  },
  {
   "cell_type": "code",
   "execution_count": null,
   "metadata": {},
   "outputs": [],
   "source": [
    "data[-2:]"
   ]
  },
  {
   "cell_type": "code",
   "execution_count": null,
   "metadata": {},
   "outputs": [],
   "source": [
    "data = ['6,10',\n",
    "'0,14',\n",
    "'9,10',\n",
    "'0,3',\n",
    "'10,4',\n",
    "'4,11',\n",
    "'6,0',\n",
    "'6,12',\n",
    "'4,1',\n",
    "'0,13',\n",
    "'10,12',\n",
    "'3,4',\n",
    "'3,0',\n",
    "'8,4',\n",
    "'1,10',\n",
    "'2,14',\n",
    "'8,10',\n",
    "'9,0',\n",
    "'',\n",
    "'fold along y=7',\n",
    "'fold along x=5']"
   ]
  },
  {
   "cell_type": "code",
   "execution_count": null,
   "metadata": {},
   "outputs": [],
   "source": [
    "point_coordinates = [line.split(',') for line in data if 'fold' not in line and line != '']\n",
    "point_coordinates = np.asarray(point_coordinates).astype(int)\n",
    "folds = [line.replace('fold along ', '').split('=') for line in data if 'fold' in line]\n",
    "point_coordinates[:5]"
   ]
  },
  {
   "cell_type": "code",
   "execution_count": null,
   "metadata": {},
   "outputs": [],
   "source": [
    "folds[:5]"
   ]
  },
  {
   "cell_type": "code",
   "execution_count": null,
   "metadata": {},
   "outputs": [],
   "source": [
    "(point_coordinates[:, 1].max() + 1) % 2"
   ]
  },
  {
   "cell_type": "code",
   "execution_count": null,
   "metadata": {},
   "outputs": [],
   "source": [
    "n_rows = point_coordinates[:, 1].max() + 1\n",
    "if n_rows % 2 == 0: n_rows += 1\n",
    "n_cols = point_coordinates[:, 0].max() + 1\n",
    "if n_cols % 2 == 0: n_cols += 1\n",
    "paper = np.zeros((n_rows, n_cols))\n",
    "for x, y in point_coordinates:\n",
    "    paper[y, x] = 1\n",
    "\n",
    "for fold_direction, fold_line in folds [:1]:\n",
    "    print(fold_direction, fold_line)\n",
    "    print(paper.shape)\n",
    "    fold_line = int(fold_line)\n",
    "    if fold_direction == 'y':\n",
    "        section1 = paper[:fold_line, :]\n",
    "        section2 = paper[fold_line + 1:, :]\n",
    "        paper = section1 + np.flip(section2, 0)\n",
    "    else:\n",
    "        section1 = paper[:, :fold_line]\n",
    "        section2 = paper[:, fold_line+1:]\n",
    "        paper = section1 + np.flip(section2, 1)"
   ]
  },
  {
   "cell_type": "code",
   "execution_count": null,
   "metadata": {},
   "outputs": [],
   "source": [
    "(paper >= 1).sum()"
   ]
  },
  {
   "cell_type": "code",
   "execution_count": null,
   "metadata": {},
   "outputs": [],
   "source": [
    "import matplotlib.pyplot as plt\n",
    "plt.figure(figsize=(15, 5))\n",
    "import seaborn as sns \n",
    "sns.heatmap(paper >= 1)"
   ]
  },
  {
   "cell_type": "markdown",
   "metadata": {
    "jp-MarkdownHeadingCollapsed": true,
    "tags": []
   },
   "source": [
    "# Day 14"
   ]
  },
  {
   "cell_type": "code",
   "execution_count": null,
   "metadata": {},
   "outputs": [],
   "source": [
    "import re\n",
    "from collections import Counter\n",
    "from itertools import product\n",
    "puzzle = Puzzle(year=2021, day=14)\n",
    "data = lines(puzzle.input_data)\n",
    "data[:5]"
   ]
  },
  {
   "cell_type": "code",
   "execution_count": null,
   "metadata": {},
   "outputs": [],
   "source": [
    "data = ['NNCB',\n",
    "'',\n",
    "'CH -> B',\n",
    "'HH -> N',\n",
    "'CB -> H',\n",
    "'NH -> C',\n",
    "'HB -> C',\n",
    "'HC -> B',\n",
    "'HN -> C',\n",
    "'NN -> C',\n",
    "'BH -> H',\n",
    "'NC -> B',\n",
    "'NB -> B',\n",
    "'BN -> B',\n",
    "'BB -> N',\n",
    "'BC -> B',\n",
    "'CC -> N',\n",
    "'CN -> C']"
   ]
  },
  {
   "cell_type": "code",
   "execution_count": null,
   "metadata": {},
   "outputs": [],
   "source": [
    "polymer_input_score_board, output_score_boardlate = data[0]\n",
    "pair_insertion_rules = {rule[:2]:rule[-1] for rule in data[2:]}\n",
    "polymer_input_score_board, output_score_boardlate"
   ]
  },
  {
   "cell_type": "code",
   "execution_count": null,
   "metadata": {
    "tags": []
   },
   "outputs": [],
   "source": [
    "polymer_input_score_board, output_score_boardlate = data[0]\n",
    "n_steps = 40\n",
    "\n",
    "for step in range(n_steps):\n",
    "    \n",
    "    print(step)\n",
    "\n",
    "    letter_has_been_added_now = np.zeros(len(polymer_input_score_board, output_score_boardlate)).astype(bool).tolist()\n",
    "    for input_letters, letter_to_add in pair_insertion_rules:\n",
    "\n",
    "        matches = re.finditer(f'(?=({input_letters}))', polymer_input_score_board, output_score_boardlate)\n",
    "        offset = 0\n",
    "        for match in matches:\n",
    "\n",
    "            # If this match is not considering a letter that has been added in this round\n",
    "            if not (letter_has_been_added_now[match.start(1) + offset] or letter_has_been_added_now[match.start(1) + 1 + offset]):\n",
    "                new_letter_position = match.start(1) + 1 + offset\n",
    "\n",
    "                # Add letter to polymer input_score_board, output_score_boardlate\n",
    "                polymer_input_score_board, output_score_boardlate = polymer_input_score_board, output_score_boardlate[:new_letter_position] + letter_to_add + polymer_input_score_board, output_score_boardlate[new_letter_position:]\n",
    "\n",
    "                # Register that this letter has been added in tis round\n",
    "                letter_has_been_added_now.insert(new_letter_position, True)\n",
    "                offset += 1\n",
    "                \n",
    "    #print(polymer_input_score_board, output_score_boardlate)"
   ]
  },
  {
   "cell_type": "code",
   "execution_count": null,
   "metadata": {
    "tags": []
   },
   "outputs": [],
   "source": [
    "%%time\n",
    "polymer_input_score_board, output_score_boardlate = data[0]\n",
    "pair_insertion_rules = {rule[:2]:rule[-1] for rule in data[2:]}\n",
    "\n",
    "all_possible_letters = set(pair_insertion_rules.values())\n",
    "all_possible_pairs = [''.join(pair) for pair in product(all_possible_letters, repeat = 2)]\n",
    "\n",
    "pair_counts = pd.Series(np.zeros(len(all_possible_pairs)), index = all_possible_pairs)\n",
    "letter_counts = pd.Series(np.zeros(len(all_possible_letters)), index = all_possible_letters)\n",
    "\n",
    "for letter in polymer_input_score_board, output_score_boardlate: letter_counts[letter] += 1\n",
    "for letter_pair in [polymer_input_score_board, output_score_boardlate[i: i+2] for i in range(len(polymer_input_score_board, output_score_boardlate) - 1)]:\n",
    "    pair_counts[letter_pair] += 1\n",
    "\n",
    "n_steps = 40\n",
    "for step in range(n_steps):\n",
    "    input_score_board, pair_counts.copy()\n",
    "    for input_letters, n in pair_counts[pair_counts > 0].iteritems():\n",
    "        letter_to_add = pair_insertion_rules[input_letters]\n",
    "        input_score_board, output_score_board[input_letters] -= n\n",
    "        input_score_board, output_score_board[input_letters[0] + letter_to_add] += n\n",
    "        input_score_board, output_score_board[letter_to_add + input_letters[1]] += n\n",
    "        letter_counts[letter_to_add] += n\n",
    "    pair_counts = input_score_board, output_score_board\n",
    "    #print(step, pair_counts)\n",
    "    #print(letter_counts.sum())"
   ]
  },
  {
   "cell_type": "code",
   "execution_count": null,
   "metadata": {},
   "outputs": [],
   "source": [
    "letter_counts.max() - letter_counts.min()"
   ]
  },
  {
   "cell_type": "markdown",
   "metadata": {
    "jp-MarkdownHeadingCollapsed": true,
    "tags": []
   },
   "source": [
    "# Day 15"
   ]
  },
  {
   "cell_type": "code",
   "execution_count": null,
   "metadata": {},
   "outputs": [],
   "source": [
    "puzzle = Puzzle(year=2021, day=15)\n",
    "data = lines(puzzle.input_data)\n",
    "data[:5]"
   ]
  },
  {
   "cell_type": "code",
   "execution_count": null,
   "metadata": {},
   "outputs": [],
   "source": [
    "data = ['1163751742',\n",
    "'1381373672',\n",
    "'2136511328',\n",
    "'3694931569',\n",
    "'7463417111',\n",
    "'1319128137',\n",
    "'1359912421',\n",
    "'3125421639',\n",
    "'1293138521',\n",
    "'2311944581']"
   ]
  },
  {
   "cell_type": "code",
   "execution_count": null,
   "metadata": {},
   "outputs": [],
   "source": [
    "risk_level = np.asarray([[int(digit) for digit in line] for line in data])\n",
    "risk_level.shape"
   ]
  },
  {
   "cell_type": "code",
   "execution_count": null,
   "metadata": {},
   "outputs": [],
   "source": [
    "def calculate_shortest_path_distance(risk_level):\n",
    "    start_position = (0, 0)\n",
    "    next_positions_to_visit = {(0, 1): risk_level[0, 1], (1, 0): risk_level[1, 0]}\n",
    "\n",
    "    node_has_been_visited = np.zeros_like(risk_level)\n",
    "    node_has_been_visited[0, 0] = 1\n",
    "    cumulative_distances = np.zeros_like(risk_level)\n",
    "    cumulative_distances[(0, 1)] = risk_level[0, 1]\n",
    "    cumulative_distances[(1, 0)] = risk_level[1, 0]\n",
    "\n",
    "    while len(next_positions_to_visit) > 0 and cumulative_distances[-1, -1] == 0:\n",
    "\n",
    "        node_w_smallest_dist = min(next_positions_to_visit, key=next_positions_to_visit.get)\n",
    "        current_distance = next_positions_to_visit[node_w_smallest_dist]\n",
    "\n",
    "        # Mark as visited\n",
    "        node_has_been_visited[node_w_smallest_dist] = 1\n",
    "\n",
    "        if node_w_smallest_dist[0] != risk_level.shape[0] - 1:\n",
    "            bottom_adjacent_coords = (node_w_smallest_dist[0] + 1, node_w_smallest_dist[1])\n",
    "            if not(node_has_been_visited[bottom_adjacent_coords] or cumulative_distances[bottom_adjacent_coords] != 0): \n",
    "                cumulative_distances[bottom_adjacent_coords] = current_distance + risk_level[bottom_adjacent_coords]\n",
    "                next_positions_to_visit[bottom_adjacent_coords] = current_distance + risk_level[bottom_adjacent_coords]\n",
    "        if node_w_smallest_dist[1] != risk_level.shape[1] - 1:\n",
    "            right_adjacent_coords = (node_w_smallest_dist[0], node_w_smallest_dist[1] + 1)\n",
    "            if not(node_has_been_visited[right_adjacent_coords] or cumulative_distances[right_adjacent_coords] != 0): \n",
    "                cumulative_distances[right_adjacent_coords] = current_distance + risk_level[right_adjacent_coords]\n",
    "                next_positions_to_visit[right_adjacent_coords] = current_distance + risk_level[right_adjacent_coords]\n",
    "        if node_w_smallest_dist[0] != 0:\n",
    "            top_adjacent_coords = (node_w_smallest_dist[0] - 1, node_w_smallest_dist[1])\n",
    "            if not(node_has_been_visited[top_adjacent_coords] or cumulative_distances[top_adjacent_coords] != 0): \n",
    "                cumulative_distances[top_adjacent_coords] = current_distance + risk_level[top_adjacent_coords]\n",
    "                next_positions_to_visit[top_adjacent_coords] = current_distance + risk_level[top_adjacent_coords]\n",
    "        if node_w_smallest_dist[1] != 0:\n",
    "            left_adjacent_coords = (node_w_smallest_dist[0], node_w_smallest_dist[1] - 1)\n",
    "            if not(node_has_been_visited[left_adjacent_coords] or cumulative_distances[left_adjacent_coords] != 0): \n",
    "                cumulative_distances[left_adjacent_coords] = current_distance + risk_level[left_adjacent_coords]\n",
    "                next_positions_to_visit[left_adjacent_coords] = current_distance + risk_level[left_adjacent_coords]\n",
    "\n",
    "\n",
    "        # Remove from \"to-visit\" dict\n",
    "        next_positions_to_visit.pop(node_w_smallest_dist)\n",
    "\n",
    "        #print(node_w_smallest_dist)\n",
    "        #print(cumulative_distances)\n",
    "        #print(next_positions_to_visit)\n",
    "        #print()\n",
    "        \n",
    "    return cumulative_distances[-1, -1]"
   ]
  },
  {
   "cell_type": "code",
   "execution_count": null,
   "metadata": {},
   "outputs": [],
   "source": [
    "calculate_shortest_path_distance(risk_level)"
   ]
  },
  {
   "cell_type": "code",
   "execution_count": null,
   "metadata": {},
   "outputs": [],
   "source": [
    "n_rows, n_cols = risk_level.shape\n",
    "large_risk_level = np.zeros((n_rows*5, n_cols*5))\n",
    "\n",
    "current = risk_level.copy()\n",
    "\n",
    "for i in range(5):\n",
    "    large_risk_level[i*n_rows:(i+1)*n_rows, :n_cols] = current\n",
    "    current += 1\n",
    "    current[current > 9] = 1\n",
    "    \n",
    "current = large_risk_level[:, :n_cols].copy()\n",
    "for j in range(5):\n",
    "    large_risk_level[:, j*n_cols:(j+1)*n_cols] = current\n",
    "    current += 1\n",
    "    current[current > 9] = 1\n",
    "    \n",
    "large_risk_level = large_risk_level.astype(int)"
   ]
  },
  {
   "cell_type": "code",
   "execution_count": null,
   "metadata": {},
   "outputs": [],
   "source": [
    "calculate_shortest_path_distance(large_risk_level)"
   ]
  },
  {
   "cell_type": "markdown",
   "metadata": {
    "jp-MarkdownHeadingCollapsed": true,
    "tags": []
   },
   "source": [
    "# Day 16"
   ]
  },
  {
   "cell_type": "code",
   "execution_count": null,
   "metadata": {},
   "outputs": [],
   "source": [
    "puzzle = Puzzle(year=2021, day=16)\n",
    "data = puzzle.input_data\n",
    "data"
   ]
  },
  {
   "cell_type": "code",
   "execution_count": null,
   "metadata": {},
   "outputs": [],
   "source": [
    "class Tokenizer:\n",
    "    \n",
    "    def __init__(self, binary_packet):\n",
    "        self.read_pointer = 0\n",
    "        self.binary_packet = binary_packet\n",
    "    \n",
    "    def get_version_and_type(self):\n",
    "        packet_version = int(self.binary_packet[self.read_pointer:self.read_pointer+3], 2)\n",
    "        packet_type_id = int(self.binary_packet[self.read_pointer+3:self.read_pointer+6], 2)\n",
    "        self.read_pointer += 6\n",
    "        return packet_version, packet_type_id\n",
    "    \n",
    "    def get_operator_packet_type(self):\n",
    "        operator_packet_type = self.binary_packet[self.read_pointer]\n",
    "        self.read_pointer += 1\n",
    "        return int(operator_packet_type)\n",
    "    \n",
    "    def get_subpackets_length(self):\n",
    "        length = int(self.binary_packet[self.read_pointer:self.read_pointer + 15], 2)\n",
    "        self.read_pointer += 15\n",
    "        return length\n",
    "        \n",
    "    def get_n_subpackets(self):\n",
    "        n = int(self.binary_packet[self.read_pointer:self.read_pointer + 11], 2)\n",
    "        self.read_pointer += 11\n",
    "        return n        \n",
    "    \n",
    "    def get_subpackets_w_length(self, length):\n",
    "        return self.binary_packet[self.read_pointer: self.read_pointer+length]\n",
    "\n",
    "    def get_remaining_packet(self):\n",
    "        return self.binary_packet[self.read_pointer:]\n",
    "    \n",
    "    def decode_packet(self):\n",
    "        \n",
    "        if len(self.binary_packet.replace('0', '')) == 0: return\n",
    "    \n",
    "        packet_version, packet_type_id = self.get_version_and_type()\n",
    "        versions.append(packet_version)\n",
    "        \n",
    "        #print(versions)\n",
    "        #print(packet_type_id)\n",
    "\n",
    "        if packet_type_id == 4:\n",
    "            literal = self.decode_literal_packet()\n",
    "            #print(\"Literal:\", literal)\n",
    "        else:\n",
    "            operator_type = self.get_operator_packet_type()\n",
    "            #print(\"Operator type:\", operator_type)\n",
    "            if operator_type == 0:\n",
    "                self.decode_fixed_length_packet()\n",
    "            else:\n",
    "                self.decode_packet_w_n_subpackets()\n",
    "    \n",
    "    def decode_literal_packet(self):\n",
    "        \n",
    "        group_prefix = self.binary_packet[self.read_pointer]\n",
    "    \n",
    "        digits = []\n",
    "\n",
    "        while group_prefix != '0':\n",
    "            digits.append(self.binary_packet[self.read_pointer + 1: self.read_pointer + 5])\n",
    "            self.read_pointer += 5\n",
    "            group_prefix = self.binary_packet[self.read_pointer]\n",
    "\n",
    "        # Append final digit \n",
    "        digits.append(self.binary_packet[self.read_pointer + 1: self.read_pointer + 5])\n",
    "        self.read_pointer += 5\n",
    "\n",
    "        decimal_value = int(''.join(digits), 2)\n",
    "        \n",
    "        return decimal_value\n",
    "    \n",
    "    def decode_fixed_length_packet(self):\n",
    "        subpackets_length = self.get_subpackets_length()\n",
    "        #print(\"Subpackets length:\", subpackets_length)\n",
    "        subtokenizer = Tokenizer(self.binary_packet[self.read_pointer: self.read_pointer + subpackets_length])\n",
    "        subtokenizer.decode_packet()\n",
    "        self.read_pointer += subtokenizer.read_pointer\n",
    "        subpackets_length -= subtokenizer.read_pointer\n",
    "        \n",
    "        while len(subtokenizer.get_remaining_packet().replace('0', '')) > 0:\n",
    "            subtokenizer = Tokenizer(self.binary_packet[self.read_pointer: self.read_pointer + subpackets_length])\n",
    "            subtokenizer.decode_packet()\n",
    "            self.read_pointer += subtokenizer.read_pointer\n",
    "            subpackets_length -= subtokenizer.read_pointer\n",
    "        \n",
    "    def decode_packet_w_n_subpackets(self):\n",
    "        n_subpackets = self.get_n_subpackets()\n",
    "        #print(\"Number of subpackets:\", n_subpackets)\n",
    "        \n",
    "        for i in range(n_subpackets):\n",
    "            subtokenizer = Tokenizer(self.get_remaining_packet())\n",
    "            subtokenizer.decode_packet()\n",
    "            self.read_pointer += subtokenizer.read_pointer"
   ]
  },
  {
   "cell_type": "code",
   "execution_count": null,
   "metadata": {
    "tags": []
   },
   "outputs": [],
   "source": [
    "hex_packet = '38006F45291200'\n",
    "h_size = len(hex_packet) * 4\n",
    "binary_packet = bin(int(hex_packet, 16))[2:].zfill(h_size)\n",
    "\n",
    "versions = [] \n",
    "tokenizer = Tokenizer(binary_packet)\n",
    "\n",
    "tokenizer.decode_packet()\n",
    "\n",
    "print(\"Final list of versions:\", versions)"
   ]
  },
  {
   "cell_type": "code",
   "execution_count": null,
   "metadata": {},
   "outputs": [],
   "source": [
    "hex_packet = 'EE00D40C823060'\n",
    "h_size = len(hex_packet) * 4\n",
    "binary_packet = bin(int(hex_packet, 16))[2:].zfill(h_size)\n",
    "\n",
    "versions = [] \n",
    "\n",
    "tokenizer = Tokenizer(binary_packet)\n",
    "tokenizer.decode_packet()\n",
    "\n",
    "print(\"Final list of versions:\", versions)"
   ]
  },
  {
   "cell_type": "code",
   "execution_count": null,
   "metadata": {},
   "outputs": [],
   "source": [
    "hex_packet = '8A004A801A8002F478'\n",
    "h_size = len(hex_packet) * 4\n",
    "binary_packet = bin(int(hex_packet, 16))[2:].zfill(h_size)\n",
    "\n",
    "versions = [] \n",
    "\n",
    "tokenizer = Tokenizer(binary_packet)\n",
    "tokenizer.decode_packet()\n",
    "\n",
    "print(\"Final list of versions:\", versions)"
   ]
  },
  {
   "cell_type": "code",
   "execution_count": null,
   "metadata": {},
   "outputs": [],
   "source": [
    "hex_packet = '620080001611562C8802118E34'\n",
    "h_size = len(hex_packet) * 4\n",
    "binary_packet = bin(int(hex_packet, 16))[2:].zfill(h_size)\n",
    "\n",
    "versions = [] \n",
    "\n",
    "tokenizer = Tokenizer(binary_packet)\n",
    "tokenizer.decode_packet()\n",
    "\n",
    "print(\"Final list of versions:\", versions)\n",
    "print(\"Version sum:\", sum(versions))"
   ]
  },
  {
   "cell_type": "code",
   "execution_count": null,
   "metadata": {},
   "outputs": [],
   "source": [
    "hex_packet = 'C0015000016115A2E0802F182340'\n",
    "h_size = len(hex_packet) * 4\n",
    "binary_packet = bin(int(hex_packet, 16))[2:].zfill(h_size)\n",
    "\n",
    "versions = [] \n",
    "\n",
    "tokenizer = Tokenizer(binary_packet)\n",
    "tokenizer.decode_packet()\n",
    "\n",
    "print(\"Final list of versions:\", versions)\n",
    "print(\"Version sum:\", sum(versions))"
   ]
  },
  {
   "cell_type": "code",
   "execution_count": null,
   "metadata": {},
   "outputs": [],
   "source": [
    "hex_packet = 'A0016C880162017C3686B18A3D4780'\n",
    "h_size = len(hex_packet) * 4\n",
    "binary_packet = bin(int(hex_packet, 16))[2:].zfill(h_size)\n",
    "\n",
    "versions = [] \n",
    "\n",
    "tokenizer = Tokenizer(binary_packet)\n",
    "tokenizer.decode_packet()\n",
    "\n",
    "print(\"Final list of versions:\", versions)\n",
    "print(\"Version sum:\", sum(versions))"
   ]
  },
  {
   "cell_type": "code",
   "execution_count": null,
   "metadata": {},
   "outputs": [],
   "source": [
    "hex_packet = data\n",
    "h_size = len(hex_packet) * 4\n",
    "binary_packet = bin(int(hex_packet, 16))[2:].zfill(h_size)\n",
    "\n",
    "versions = [] \n",
    "\n",
    "tokenizer = Tokenizer(binary_packet)\n",
    "tokenizer.decode_packet()\n",
    "\n",
    "print(\"Final list of versions:\", versions)\n",
    "print(\"Version sum:\", sum(versions))"
   ]
  },
  {
   "cell_type": "code",
   "execution_count": null,
   "metadata": {},
   "outputs": [],
   "source": [
    "# Type 0: sum\n",
    "# 1: product\n",
    "# 2: minimum\n",
    "# 3: maximum\n",
    "# 4: literal\n",
    "# 5: greater than\n",
    "# 6: less than\n",
    "# 7: equal to"
   ]
  },
  {
   "cell_type": "code",
   "execution_count": null,
   "metadata": {},
   "outputs": [],
   "source": [
    "class Tokenizer:\n",
    "    \n",
    "    def __init__(self, binary_packet):\n",
    "        self.read_pointer = 0\n",
    "        self.binary_packet = binary_packet\n",
    "    \n",
    "    def get_version_and_type(self):\n",
    "        packet_version = int(self.binary_packet[self.read_pointer:self.read_pointer+3], 2)\n",
    "        packet_type_id = int(self.binary_packet[self.read_pointer+3:self.read_pointer+6], 2)\n",
    "        self.read_pointer += 6\n",
    "        return packet_version, packet_type_id\n",
    "    \n",
    "    def get_operator_packet_type(self):\n",
    "        operator_packet_type = self.binary_packet[self.read_pointer]\n",
    "        self.read_pointer += 1\n",
    "        return int(operator_packet_type)\n",
    "    \n",
    "    def get_subpackets_length(self):\n",
    "        length = int(self.binary_packet[self.read_pointer:self.read_pointer + 15], 2)\n",
    "        self.read_pointer += 15\n",
    "        return length\n",
    "        \n",
    "    def get_n_subpackets(self):\n",
    "        n = int(self.binary_packet[self.read_pointer:self.read_pointer + 11], 2)\n",
    "        self.read_pointer += 11\n",
    "        return n        \n",
    "    \n",
    "    def get_subpackets_w_length(self, length):\n",
    "        return self.binary_packet[self.read_pointer: self.read_pointer+length]\n",
    "\n",
    "    def get_remaining_packet(self):\n",
    "        return self.binary_packet[self.read_pointer:]\n",
    "    \n",
    "    def decode_packet(self):\n",
    "        \n",
    "        if len(self.binary_packet.replace('0', '')) == 0: return\n",
    "    \n",
    "        packet_version, packet_type_id = self.get_version_and_type()\n",
    "        #versions.append(packet_version)\n",
    "        \n",
    "        #print(versions)\n",
    "        #print(packet_type_id)\n",
    "\n",
    "        if packet_type_id == 4:\n",
    "            self.decode_literal_packet()\n",
    "            #print(\"Literal:\", literal)\n",
    "        else:\n",
    "            \n",
    "            # Find which operation this is \n",
    "            if packet_type_id == 0: operation = '+'\n",
    "            elif packet_type_id == 1: operation = '*'\n",
    "            elif packet_type_id == 2: operation = 'min'\n",
    "            elif packet_type_id == 3: operation = 'max'\n",
    "            elif packet_type_id == 5: operation = '>'\n",
    "            elif packet_type_id == 6: operation = '<'\n",
    "            elif packet_type_id == 7: operation = '=='\n",
    "            \n",
    "            operator_type = self.get_operator_packet_type()\n",
    "            #print(\"Operator type:\", operator_type)\n",
    "            if operator_type == 0:\n",
    "                self.decode_fixed_length_packet(operation)\n",
    "            else:\n",
    "                self.decode_packet_w_n_subpackets(operation)\n",
    "    \n",
    "    def decode_literal_packet(self):\n",
    "        \n",
    "        group_prefix = self.binary_packet[self.read_pointer]\n",
    "    \n",
    "        digits = []\n",
    "\n",
    "        while group_prefix != '0':\n",
    "            digits.append(self.binary_packet[self.read_pointer + 1: self.read_pointer + 5])\n",
    "            self.read_pointer += 5\n",
    "            group_prefix = self.binary_packet[self.read_pointer]\n",
    "\n",
    "        # Append final digit \n",
    "        digits.append(self.binary_packet[self.read_pointer + 1: self.read_pointer + 5])\n",
    "        self.read_pointer += 5\n",
    "\n",
    "        decimal_value = int(''.join(digits), 2)\n",
    "        \n",
    "        string_builder.append(str(decimal_value))\n",
    "    \n",
    "    def decode_fixed_length_packet(self, operation):\n",
    "        \n",
    "        if operation in ['min', 'max']: \n",
    "            string_builder.append(operation)\n",
    "        string_builder.append(\"(\")\n",
    "        \n",
    "        #print(string_builder)\n",
    "        \n",
    "        subpackets_length = self.get_subpackets_length()\n",
    "        #print(\"Subpackets length:\", subpackets_length)\n",
    "        subtokenizer = Tokenizer(self.binary_packet[self.read_pointer: self.read_pointer + subpackets_length])\n",
    "        subtokenizer.decode_packet()\n",
    "        self.read_pointer += subtokenizer.read_pointer\n",
    "        subpackets_length -= subtokenizer.read_pointer\n",
    "        \n",
    "        if operation in ['min', 'max']: string_builder.append(',')\n",
    "        else: string_builder.append(operation)\n",
    "        \n",
    "        while len(subtokenizer.get_remaining_packet().replace('0', '')) > 0:\n",
    "            subtokenizer = Tokenizer(self.binary_packet[self.read_pointer: self.read_pointer + subpackets_length])\n",
    "            subtokenizer.decode_packet()\n",
    "            self.read_pointer += subtokenizer.read_pointer\n",
    "            subpackets_length -= subtokenizer.read_pointer\n",
    "            \n",
    "            if operation in ['min', 'max']: string_builder.append(',')\n",
    "            else: string_builder.append(operation)\n",
    "            \n",
    "        string_builder.pop(-1)\n",
    "                             \n",
    "        string_builder.append(\")\")\n",
    "        \n",
    "    def decode_packet_w_n_subpackets(self, operation):\n",
    "        \n",
    "        if operation in ['min', 'max']: \n",
    "            string_builder.append(operation)\n",
    "        string_builder.append(\"(\")\n",
    "        \n",
    "        n_subpackets = self.get_n_subpackets()\n",
    "        #print(\"Number of subpackets:\", n_subpackets)\n",
    "        \n",
    "        for i in range(n_subpackets):\n",
    "            subtokenizer = Tokenizer(self.get_remaining_packet())\n",
    "            subtokenizer.decode_packet()\n",
    "            self.read_pointer += subtokenizer.read_pointer\n",
    "            \n",
    "            if operation in ['min', 'max']: string_builder.append(',')\n",
    "            else: string_builder.append(operation)\n",
    "            \n",
    "        string_builder.pop(-1)\n",
    "        \n",
    "        string_builder.append(\")\")"
   ]
  },
  {
   "cell_type": "code",
   "execution_count": null,
   "metadata": {},
   "outputs": [],
   "source": [
    "hex_packet = '880086C3E88112'\n",
    "h_size = len(hex_packet) * 4\n",
    "binary_packet = bin(int(hex_packet, 16))[2:].zfill(h_size)\n",
    "\n",
    "string_builder = []\n",
    "\n",
    "tokenizer = Tokenizer(binary_packet)\n",
    "tokenizer.decode_packet()\n",
    "\n",
    "print(string_builder)\n",
    "print(''.join(string_builder))\n",
    "print(eval(''.join(string_builder)))"
   ]
  },
  {
   "cell_type": "code",
   "execution_count": null,
   "metadata": {},
   "outputs": [],
   "source": [
    "hex_packet = 'CE00C43D881120'\n",
    "h_size = len(hex_packet) * 4\n",
    "binary_packet = bin(int(hex_packet, 16))[2:].zfill(h_size)\n",
    "\n",
    "string_builder = []\n",
    "\n",
    "tokenizer = Tokenizer(binary_packet)\n",
    "tokenizer.decode_packet()\n",
    "\n",
    "print(string_builder)\n",
    "print(''.join(string_builder))\n",
    "print(eval(''.join(string_builder)))"
   ]
  },
  {
   "cell_type": "code",
   "execution_count": null,
   "metadata": {},
   "outputs": [],
   "source": [
    "hex_packet = 'C200B40A82'\n",
    "h_size = len(hex_packet) * 4\n",
    "binary_packet = bin(int(hex_packet, 16))[2:].zfill(h_size)\n",
    "\n",
    "string_builder = []\n",
    "\n",
    "tokenizer = Tokenizer(binary_packet)\n",
    "tokenizer.decode_packet()\n",
    "\n",
    "print(string_builder)\n",
    "print(''.join(string_builder))\n",
    "print(eval(''.join(string_builder)))"
   ]
  },
  {
   "cell_type": "code",
   "execution_count": null,
   "metadata": {},
   "outputs": [],
   "source": [
    "hex_packet = '04005AC33890'\n",
    "h_size = len(hex_packet) * 4\n",
    "binary_packet = bin(int(hex_packet, 16))[2:].zfill(h_size)\n",
    "\n",
    "string_builder = []\n",
    "\n",
    "tokenizer = Tokenizer(binary_packet)\n",
    "tokenizer.decode_packet()\n",
    "\n",
    "print(string_builder)\n",
    "print(''.join(string_builder))\n",
    "print(eval(''.join(string_builder)))"
   ]
  },
  {
   "cell_type": "code",
   "execution_count": null,
   "metadata": {},
   "outputs": [],
   "source": [
    "hex_packet = 'D8005AC2A8F0'\n",
    "h_size = len(hex_packet) * 4\n",
    "binary_packet = bin(int(hex_packet, 16))[2:].zfill(h_size)\n",
    "\n",
    "string_builder = []\n",
    "\n",
    "tokenizer = Tokenizer(binary_packet)\n",
    "tokenizer.decode_packet()\n",
    "\n",
    "print(string_builder)\n",
    "print(''.join(string_builder))\n",
    "print(eval(''.join(string_builder)))"
   ]
  },
  {
   "cell_type": "code",
   "execution_count": null,
   "metadata": {},
   "outputs": [],
   "source": [
    "hex_packet = 'F600BC2D8F'\n",
    "h_size = len(hex_packet) * 4\n",
    "binary_packet = bin(int(hex_packet, 16))[2:].zfill(h_size)\n",
    "\n",
    "string_builder = []\n",
    "\n",
    "tokenizer = Tokenizer(binary_packet)\n",
    "tokenizer.decode_packet()\n",
    "\n",
    "print(string_builder)\n",
    "print(''.join(string_builder))\n",
    "print(eval(''.join(string_builder)))"
   ]
  },
  {
   "cell_type": "code",
   "execution_count": null,
   "metadata": {},
   "outputs": [],
   "source": [
    "hex_packet = '9C005AC2F8F0'\n",
    "h_size = len(hex_packet) * 4\n",
    "binary_packet = bin(int(hex_packet, 16))[2:].zfill(h_size)\n",
    "\n",
    "string_builder = []\n",
    "\n",
    "tokenizer = Tokenizer(binary_packet)\n",
    "tokenizer.decode_packet()\n",
    "\n",
    "print(string_builder)\n",
    "print(''.join(string_builder))\n",
    "print(eval(''.join(string_builder)))"
   ]
  },
  {
   "cell_type": "code",
   "execution_count": null,
   "metadata": {},
   "outputs": [],
   "source": [
    "hex_packet = '9C0141080250320F1802104A08'\n",
    "h_size = len(hex_packet) * 4\n",
    "binary_packet = bin(int(hex_packet, 16))[2:].zfill(h_size)\n",
    "\n",
    "string_builder = []\n",
    "\n",
    "tokenizer = Tokenizer(binary_packet)\n",
    "tokenizer.decode_packet()\n",
    "\n",
    "print(string_builder)\n",
    "print(''.join(string_builder))\n",
    "print(eval(''.join(string_builder)))"
   ]
  },
  {
   "cell_type": "code",
   "execution_count": null,
   "metadata": {},
   "outputs": [],
   "source": [
    "hex_packet = data\n",
    "h_size = len(hex_packet) * 4\n",
    "binary_packet = bin(int(hex_packet, 16))[2:].zfill(h_size)\n",
    "\n",
    "string_builder = []\n",
    "\n",
    "tokenizer = Tokenizer(binary_packet)\n",
    "tokenizer.decode_packet()\n",
    "\n",
    "print(string_builder)\n",
    "print(''.join(string_builder))"
   ]
  },
  {
   "cell_type": "code",
   "execution_count": null,
   "metadata": {},
   "outputs": [],
   "source": [
    "full_calculation = ''.join(string_builder)\n",
    "import re\n",
    "\n",
    "full_calculation = re.sub('min\\((\\d+)\\)', r'\\1', full_calculation)\n",
    "full_calculation = re.sub('max\\((\\d+)\\)', r'\\1', full_calculation)\n",
    "\n",
    "while re.search('min\\((\\d+)\\)', full_calculation) or re.search('max\\((\\d+)\\)', full_calculation) or re.search('\\(\\((\\d+)\\)\\)', full_calculation):\n",
    "    full_calculation = re.sub('min\\((\\d+)\\)', r'\\1', full_calculation)\n",
    "    full_calculation = re.sub('max\\((\\d+)\\)', r'\\1', full_calculation)\n",
    "    \n",
    "    full_calculation = re.sub('\\((\\(\\d+\\))\\)', r'\\1', full_calculation)"
   ]
  },
  {
   "cell_type": "code",
   "execution_count": null,
   "metadata": {},
   "outputs": [],
   "source": [
    "eval(full_calculation)"
   ]
  },
  {
   "cell_type": "markdown",
   "metadata": {
    "jp-MarkdownHeadingCollapsed": true,
    "tags": []
   },
   "source": [
    "# Day 17"
   ]
  },
  {
   "cell_type": "code",
   "execution_count": null,
   "metadata": {},
   "outputs": [],
   "source": [
    "puzzle = Puzzle(year=2021, day=17)\n",
    "data = puzzle.input_data\n",
    "data"
   ]
  },
  {
   "cell_type": "code",
   "execution_count": null,
   "metadata": {},
   "outputs": [],
   "source": [
    "xmin = int(data[15:18])\n",
    "xmax = int(data[20:23])\n",
    "ymin = int(data[27:31])\n",
    "ymax = int(data[33:37])"
   ]
  },
  {
   "cell_type": "code",
   "execution_count": null,
   "metadata": {},
   "outputs": [],
   "source": [
    "xmin, xmax, ymin, ymax"
   ]
  },
  {
   "cell_type": "code",
   "execution_count": null,
   "metadata": {},
   "outputs": [],
   "source": [
    "data = 'target area: x=20..30, y=-10..-5'\n",
    "xmin = 20\n",
    "xmax = 30\n",
    "ymin = -10\n",
    "ymax = -5"
   ]
  },
  {
   "cell_type": "code",
   "execution_count": null,
   "metadata": {
    "tags": []
   },
   "outputs": [],
   "source": [
    "max_height = 0\n",
    "best_v0x = 0\n",
    "best_v0y = 0\n",
    "for v0x in range(xmax + 1):\n",
    "    for v0y in range(1000):\n",
    "        vnx = v0x\n",
    "        vny = v0y\n",
    "        pnx = 0\n",
    "        pny = 0\n",
    "        for n in range(1000):\n",
    "            pnx = pnx + vnx\n",
    "            pny = pny + vny\n",
    "            \n",
    "            if vnx < 0: vnx += 1\n",
    "            elif vnx > 0: vnx -= 1\n",
    "            vny -= 1\n",
    "            \n",
    "            if pnx >= xmin and pnx <= xmax and pny >= ymin and pny <= ymax:\n",
    "                print(f\"Hit the box for initial velocities: {v0x}, {v0y} at step {n}\")\n",
    "                print(f\"Positions: {pnx}, {pny}\")\n",
    "                highest_point = v0y*v0y - v0y * (v0y - 1) / 2\n",
    "                print(\"Height reached:\", highest_point)\n",
    "                if max_height < highest_point:\n",
    "                    max_height = highest_point\n",
    "                    best_v0x = v0x\n",
    "                    best_v0y = v0y\n",
    "                    \n",
    "                break\n",
    "                    \n",
    "            if pnx > xmax or pny < ymin: break"
   ]
  },
  {
   "cell_type": "code",
   "execution_count": null,
   "metadata": {},
   "outputs": [],
   "source": [
    "max_height"
   ]
  },
  {
   "cell_type": "code",
   "execution_count": null,
   "metadata": {
    "tags": []
   },
   "outputs": [],
   "source": [
    "max_height = 0\n",
    "best_v0x = 0\n",
    "best_v0y = 0\n",
    "\n",
    "count = 0\n",
    "\n",
    "for v0x in range(xmax + 1):\n",
    "    for v0y in range(-1000, 1000):\n",
    "        vnx = v0x\n",
    "        vny = v0y\n",
    "        pnx = 0\n",
    "        pny = 0\n",
    "        for n in range(1000):\n",
    "            pnx = pnx + vnx\n",
    "            pny = pny + vny\n",
    "            \n",
    "            if vnx < 0: vnx += 1\n",
    "            elif vnx > 0: vnx -= 1\n",
    "            vny -= 1\n",
    "            \n",
    "            if pnx >= xmin and pnx <= xmax and pny >= ymin and pny <= ymax:\n",
    "                #print(f\"Hit the box for initial velocities: {v0x}, {v0y} at step {n}\")\n",
    "                count += 1\n",
    "                break\n",
    "                    \n",
    "            if pnx > xmax or pny < ymin: break"
   ]
  },
  {
   "cell_type": "code",
   "execution_count": null,
   "metadata": {},
   "outputs": [],
   "source": [
    "count"
   ]
  },
  {
   "cell_type": "markdown",
   "metadata": {
    "jp-MarkdownHeadingCollapsed": true,
    "tags": []
   },
   "source": [
    "# Day 18"
   ]
  },
  {
   "cell_type": "code",
   "execution_count": null,
   "metadata": {
    "tags": []
   },
   "outputs": [],
   "source": [
    "puzzle = Puzzle(year=2021, day=18)\n",
    "data = lines(puzzle.input_data)\n",
    "data"
   ]
  },
  {
   "cell_type": "code",
   "execution_count": null,
   "metadata": {},
   "outputs": [],
   "source": [
    "class Node:\n",
    "    def __init__(self, left_node = None, right_node = None, parent_node = None):\n",
    "\n",
    "        self.parent_node = parent_node\n",
    "        self.left_node = left_node\n",
    "        self.right_node = right_node\n",
    "        \n",
    "        self.is_right_node = False\n",
    "        self.is_left_node = False\n",
    "        \n",
    "        if type(left_node) != int:\n",
    "            self.left_node.set_as_left_node()\n",
    "            self.left_node.parent_node = self\n",
    "        if type(right_node) != int:\n",
    "            self.right_node.set_as_right_node()\n",
    "            self.right_node.parent_node = self\n",
    "            \n",
    "    def set_as_right_node(self):\n",
    "        self.is_right_node = True\n",
    "        self.is_left_node = False\n",
    "    \n",
    "    def set_as_left_node(self):\n",
    "        self.is_right_node = False\n",
    "        self.is_left_node = True\n",
    "        \n",
    "class Tree:\n",
    "    def __init__(self, root_node):\n",
    "        self.root = root_node \n",
    "    \n",
    "    def add_node_to_right(self, new_node):\n",
    "        self.root = Node(self.root, new_node)\n",
    "    \n",
    "    def add_node_to_left(self, new_node):\n",
    "        self.root = Node(new_node, self.root)\n",
    "        \n",
    "    def to_list_from_root(self):\n",
    "        return to_list(self.root)\n",
    "        \n",
    "    def _to_list(self, base_node):\n",
    "\n",
    "        if type(base_node) == int:\n",
    "            return base_node\n",
    "        else:\n",
    "            return [to_list(base_node.left_node), to_list(base_node.right_node)]\n",
    "    \n",
    "    def get_depths_from_root(self):\n",
    "        return get_depths(self.root, 0)\n",
    "        \n",
    "    def _get_depths(self, base_node, current_depth):\n",
    "        \n",
    "        if type(base_node.left_node) == int:\n",
    "            return current_depth\n",
    "        else:\n",
    "            return [get_depths(base_node.left_node, current_depth + 1), get_depths(base_node.right_node, current_depth + 1)]\n",
    "\n",
    "    def find_node_to_right(self, node):\n",
    "        \n",
    "        if node.parent_node == None: return None\n",
    "        \n",
    "        previous_node = node\n",
    "        current_node = node.parent_node\n",
    "        if previous_node.is_right_node:\n",
    "            return self.find_node_to_right(current_node)\n",
    "        else:\n",
    "            if type(current_node.right_node) == int: return current_node\n",
    "            current_node = current_node.right_node\n",
    "            while type(current_node.left_node) != int:\n",
    "                current_node = current_node.left_node\n",
    "            return current_node#.left_node\n",
    "            \n",
    "    def find_node_to_left(self, node):\n",
    "        \n",
    "        if node.parent_node == None: return None\n",
    "        \n",
    "        previous_node = node\n",
    "        current_node = node.parent_node\n",
    "        if previous_node.is_left_node:\n",
    "            return self.find_node_to_left(current_node)\n",
    "        else:\n",
    "            if type(current_node.left_node) == int: return current_node\n",
    "            current_node = current_node.left_node\n",
    "            while type(current_node.right_node) != int:\n",
    "                current_node = current_node.right_node\n",
    "            return current_node#.right_node\n",
    "        \n",
    "    def explode(self):\n",
    "        return explode(self.root, 0)\n",
    "    \n",
    "    def _explode(self, base_node, current_depth):\n",
    "        \n",
    "        if type(base_node) == int: return False\n",
    "        \n",
    "        if type(base_node.left_node) == int and type(base_node.right_node) == int and current_depth >= 4:\n",
    "            \n",
    "            #print(base_node.left_node, base_node.right_node)\n",
    "            \n",
    "            closest_left_node = self.find_node_to_left(base_node)\n",
    "            if closest_left_node is not None:\n",
    "                if type(closest_left_node.right_node) == int: closest_left_node.right_node += base_node.left_node\n",
    "                else: closest_left_node.left_node += base_node.left_node\n",
    "            closest_right_node = self.find_node_to_right(base_node)\n",
    "            if closest_right_node is not None:\n",
    "                #print(\"Closest right node:\", closest_right_node.left_node, closest_right_node.right_node)\n",
    "                if type(closest_right_node.left_node) == int: closest_right_node.left_node += base_node.right_node\n",
    "                else: closest_right_node.right_node += base_node.right_node\n",
    "            \n",
    "            # Replace this node with the value 0\n",
    "            if base_node.is_left_node:\n",
    "                base_node.parent_node.left_node = 0\n",
    "            else: \n",
    "                base_node.parent_node.right_node = 0\n",
    "            return True\n",
    "            \n",
    "        elif explode(base_node.left_node, current_depth + 1):\n",
    "            return True\n",
    "        elif explode(base_node.right_node, current_depth + 1):\n",
    "            return True\n",
    "        else: return False\n",
    "    \n",
    "    def split(self):\n",
    "        return split(self.root)\n",
    "    \n",
    "    def _split(self, base_node):\n",
    "        if type(base_node.left_node) == int:\n",
    "            #print(\"Left node:\", base_node.left_node)\n",
    "            if base_node.left_node >= 10:\n",
    "                #print(\"Splitting\")\n",
    "                # Split left node\n",
    "                left_value = int(np.floor(base_node.left_node / 2))\n",
    "                right_value = int(np.ceil(base_node.left_node / 2))\n",
    "                base_node.left_node = Node(left_value, right_value)\n",
    "                base_node.left_node.parent_node = base_node\n",
    "                base_node.left_node.set_as_left_node()\n",
    "                return True\n",
    "            elif type(base_node.right_node) == int:\n",
    "                #print(\"Right node:\", base_node.right_node)\n",
    "                if base_node.right_node >= 10:\n",
    "                    #print(\"Splitting\")\n",
    "                    original_value = base_node.right_node\n",
    "                    # Split right node\n",
    "                    left_value = int(np.floor(original_value / 2))\n",
    "                    right_value = int(np.ceil(original_value / 2))\n",
    "                    base_node.right_node = Node(left_value, right_value)\n",
    "                    base_node.right_node.parent_node = base_node\n",
    "                    base_node.right_node.set_as_right_node()\n",
    "                    return True\n",
    "        \n",
    "        elif split(base_node.left_node): return True\n",
    "        if type(base_node.right_node) == int:\n",
    "            #print(\"Right node:\", base_node.right_node)\n",
    "            if base_node.right_node >= 10:\n",
    "                #print(\"Splitting\")\n",
    "                # Split right node\n",
    "                original_value = base_node.right_node \n",
    "                left_value = int(np.floor(original_value / 2))\n",
    "                right_value = int(np.ceil(original_value / 2))\n",
    "                base_node.right_node = Node(left_value, right_value)\n",
    "                base_node.right_node.parent_node = base_node\n",
    "                base_node.right_node.set_as_right_node()\n",
    "                return True\n",
    "        elif split(base_node.right_node): return True\n",
    "        return False\n",
    "    \n",
    "    def compute_magnitude(self):\n",
    "        return compute_magnitude(self.root)\n",
    "    \n",
    "    def _compute_magnitude(self, base_node):\n",
    "        \n",
    "        if type(base_node.left_node) == int: left_magnitude = 3*base_node.left_node\n",
    "        else: left_magnitude = 3*compute_magnitude(base_node.left_node)\n",
    "        if type(base_node.right_node) == int: right_magnitude = 2*base_node.right_node\n",
    "        else: right_magnitude = 2*compute_magnitude(base_node.right_node)\n",
    "        \n",
    "        return left_magnitude + right_magnitude\n",
    "        \n",
    "    \n",
    "def create_node_structure_from_string(s):\n",
    "    t = eval(s.replace('[', 'Node(').replace(']', ')'))\n",
    "    return t\n",
    "\n",
    "def create_tree_from_string(s):\n",
    "    return Tree(create_node_structure_from_string(s))"
   ]
  },
  {
   "cell_type": "code",
   "execution_count": null,
   "metadata": {},
   "outputs": [],
   "source": [
    "t = Tree(Node(1, 1))\n",
    "print(t.to_list_from_root())\n",
    "t.add_node_to_right(Node(2, 2))\n",
    "t.add_node_to_right(Node(3, 3))\n",
    "t.add_node_to_right(Node(4, 4))\n",
    "t.add_node_to_right(Node(5, 5))\n",
    "t.add_node_to_right(Node(6, 6))\n",
    "\n",
    "print(t.to_list_from_root())\n",
    "\n",
    "while t.explode():\n",
    "    print(t.to_list_from_root())"
   ]
  },
  {
   "cell_type": "code",
   "execution_count": null,
   "metadata": {},
   "outputs": [],
   "source": [
    "import re\n",
    "i = '[[[[4,3],4],4],[7,[[8,4],9]]]'\n",
    "t = create_tree_from_string(i)\n",
    "\n",
    "print(t.to_list_from_root())\n",
    "\n",
    "t.add_node_to_right(Node(1, 1))\n",
    "print(t.to_list_from_root())\n",
    "\n",
    "while True:\n",
    "    if t.explode(): \n",
    "        print(\"Exploded\")\n",
    "        print(t.to_list_from_root())\n",
    "        continue\n",
    "    if t.split():\n",
    "        print(\"Split\")\n",
    "        print(t.to_list_from_root())\n",
    "        continue\n",
    "    break"
   ]
  },
  {
   "cell_type": "code",
   "execution_count": null,
   "metadata": {},
   "outputs": [],
   "source": [
    "puzzle = Puzzle(year=2021, day=18)\n",
    "data = lines(puzzle.input_data)\n",
    "\n",
    "t = create_tree_from_string(data[0])\n",
    "\n",
    "print(t.to_list_from_root())\n",
    "\n",
    "for i in range(1, len(data)):\n",
    "    print(\"Step\", i)\n",
    "    t.add_node_to_right(create_node_structure_from_string(data[i]))\n",
    "    #print(t.to_list_from_root())\n",
    "\n",
    "    while True:\n",
    "        if t.explode(): \n",
    "            #print(\"Exploded\")\n",
    "            #print(t.to_list_from_root())\n",
    "            continue\n",
    "        if t.split():\n",
    "            #print(\"Split\")\n",
    "            #print(t.to_list_from_root())\n",
    "            continue\n",
    "        break\n",
    "        \n",
    "print(t.to_list_from_root())"
   ]
  },
  {
   "cell_type": "code",
   "execution_count": null,
   "metadata": {},
   "outputs": [],
   "source": [
    "t.compute_magnitude()"
   ]
  },
  {
   "cell_type": "code",
   "execution_count": null,
   "metadata": {},
   "outputs": [],
   "source": [
    "from itertools import permutations\n",
    "\n",
    "all_number_pairs = permutations(data, r = 2)\n",
    "\n",
    "magnitudes = []\n",
    "\n",
    "for number1, number2 in all_number_pairs:\n",
    "    \n",
    "    t = create_tree_from_string(number1)\n",
    "    t.add_node_to_right(create_node_structure_from_string(number2))\n",
    "\n",
    "    while True:\n",
    "        if t.explode():continue\n",
    "        if t.split():continue\n",
    "        break\n",
    "        \n",
    "    magnitudes.append(t.compute_magnitude())"
   ]
  },
  {
   "cell_type": "code",
   "execution_count": null,
   "metadata": {},
   "outputs": [],
   "source": [
    "max(magnitudes)"
   ]
  },
  {
   "cell_type": "markdown",
   "metadata": {
    "jp-MarkdownHeadingCollapsed": true,
    "tags": []
   },
   "source": [
    "# Day 19"
   ]
  },
  {
   "cell_type": "code",
   "execution_count": null,
   "metadata": {
    "tags": []
   },
   "outputs": [],
   "source": [
    "puzzle = Puzzle(year=2021, day=19)\n",
    "data = lines(puzzle.input_data)\n",
    "scanner_readings = np.asarray(data)\n",
    "scanner_readings[:5]"
   ]
  },
  {
   "cell_type": "code",
   "execution_count": null,
   "metadata": {
    "tags": []
   },
   "outputs": [],
   "source": [
    "data = ['--- scanner 0 ---',\n",
    "'404,-588,-901',\n",
    "'528,-643,409',\n",
    "'-838,591,734',\n",
    "'390,-675,-793',\n",
    "'-537,-823,-458',\n",
    "'-485,-357,347',\n",
    "'-345,-311,381',\n",
    "'-661,-816,-575',\n",
    "'-876,649,763',\n",
    "'-618,-824,-621',\n",
    "'553,345,-567',\n",
    "'474,580,667',\n",
    "'-447,-329,318',\n",
    "'-584,868,-557',\n",
    "'544,-627,-890',\n",
    "'564,392,-477',\n",
    "'455,729,728',\n",
    "'-892,524,684',\n",
    "'-689,845,-530',\n",
    "'423,-701,434',\n",
    "'7,-33,-71',\n",
    "'630,319,-379',\n",
    "'443,580,662',\n",
    "'-789,900,-551',\n",
    "'459,-707,401',\n",
    "'',\n",
    "'--- scanner 1 ---',\n",
    "'686,422,578',\n",
    "'605,423,415',\n",
    "'515,917,-361',\n",
    "'-336,658,858',\n",
    "'95,138,22',\n",
    "'-476,619,847',\n",
    "'-340,-569,-846',\n",
    "'567,-361,727',\n",
    "'-460,603,-452',\n",
    "'669,-402,600',\n",
    "'729,430,532',\n",
    "'-500,-761,534',\n",
    "'-322,571,750',\n",
    "'-466,-666,-811',\n",
    "'-429,-592,574',\n",
    "'-355,545,-477',\n",
    "'703,-491,-529',\n",
    "'-328,-685,520',\n",
    "'413,935,-424',\n",
    "'-391,539,-444',\n",
    "'586,-435,557',\n",
    "'-364,-763,-893',\n",
    "'807,-499,-711',\n",
    "'755,-354,-619',\n",
    "'553,889,-390',\n",
    "'',\n",
    "'--- scanner 2 ---',\n",
    "'649,640,665',\n",
    "'682,-795,504',\n",
    "'-784,533,-524',\n",
    "'-644,584,-595',\n",
    "'-588,-843,648',\n",
    "'-30,6,44',\n",
    "'-674,560,763',\n",
    "'500,723,-460',\n",
    "'609,671,-379',\n",
    "'-555,-800,653',\n",
    "'-675,-892,-343',\n",
    "'697,-426,-610',\n",
    "'578,704,681',\n",
    "'493,664,-388',\n",
    "'-671,-858,530',\n",
    "'-667,343,800',\n",
    "'571,-461,-707',\n",
    "'-138,-166,112',\n",
    "'-889,563,-600',\n",
    "'646,-828,498',\n",
    "'640,759,510',\n",
    "'-630,509,768',\n",
    "'-681,-892,-333',\n",
    "'673,-379,-804',\n",
    "'-742,-814,-386',\n",
    "'577,-820,562',\n",
    "'',\n",
    "'--- scanner 3 ---',\n",
    "'-589,542,597',\n",
    "'605,-692,669',\n",
    "'-500,565,-823',\n",
    "'-660,373,557',\n",
    "'-458,-679,-417',\n",
    "'-488,449,543',\n",
    "'-626,468,-788',\n",
    "'338,-750,-386',\n",
    "'528,-832,-391',\n",
    "'562,-778,733',\n",
    "'-938,-730,414',\n",
    "'543,643,-506',\n",
    "'-524,371,-870',\n",
    "'407,773,750',\n",
    "'-104,29,83',\n",
    "'378,-903,-323',\n",
    "'-778,-728,485',\n",
    "'426,699,580',\n",
    "'-438,-605,-362',\n",
    "'-469,-447,-387',\n",
    "'509,732,623',\n",
    "'647,635,-688',\n",
    "'-868,-804,481',\n",
    "'614,-800,639',\n",
    "'595,780,-596',\n",
    "'',\n",
    "'--- scanner 4 ---',\n",
    "'727,592,562',\n",
    "'-293,-554,779',\n",
    "'441,611,-461',\n",
    "'-714,465,-776',\n",
    "'-743,427,-804',\n",
    "'-660,-479,-426',\n",
    "'832,-632,460',\n",
    "'927,-485,-438',\n",
    "'408,393,-506',\n",
    "'466,436,-512',\n",
    "'110,16,151',\n",
    "'-258,-428,682',\n",
    "'-393,719,612',\n",
    "'-211,-452,876',\n",
    "'808,-476,-593',\n",
    "'-575,615,604',\n",
    "'-485,667,467',\n",
    "'-680,325,-822',\n",
    "'-627,-443,-432',\n",
    "'872,-547,-609',\n",
    "'833,512,582',\n",
    "'807,604,487',\n",
    "'839,-516,451',\n",
    "'891,-625,532',\n",
    "'-652,-548,-490',\n",
    "'30,-46,-14']\n",
    "\n",
    "scanner_readings = np.asarray(data)\n",
    "scanner_readings[:5]"
   ]
  },
  {
   "cell_type": "code",
   "execution_count": null,
   "metadata": {},
   "outputs": [],
   "source": [
    "all_scanners = []\n",
    "for i in range(50):\n",
    "    start = np.where(scanner_readings == f'--- scanner {i} ---')[0]\n",
    "    if len(start) == 0: break\n",
    "    else: start = start[0]\n",
    "    end = np.where(scanner_readings == f'--- scanner {i+1} ---')[0]\n",
    "    if len(end) == 0: end = len(scanner_readings)\n",
    "    else: end = end[0]\n",
    "    scanner = scanner_readings[start+1:end]\n",
    "    scanner = [s for s in scanner if s != '']\n",
    "    scanner = np.asarray([s.split(',') for s in scanner]).astype(int)\n",
    "    all_scanners.append(scanner)"
   ]
  },
  {
   "cell_type": "code",
   "execution_count": null,
   "metadata": {},
   "outputs": [],
   "source": [
    "all_rotations = [np.array([[1,  0,  0], [0,  1,  0], [0,  0,  1]]),\n",
    "                 np.array([[1,  0,  0], [0,  0, -1], [0,  1,  0]]),\n",
    "                 np.array([[1,  0,  0], [0, -1,  0], [0,  0, -1]]),\n",
    "                 np.array([[1,  0,  0], [0,  0,  1], [0, -1,  0]]),\n",
    "                 np.array([[0, -1,  0], [1,  0,  0], [0,  0,  1]]),\n",
    "                 np.array([[0,  0,  1], [1,  0,  0], [0,  1,  0]]),\n",
    "                 np.array([[0,  1,  0], [1,  0,  0], [0,  0, -1]]),\n",
    "                 np.array([[0,  0, -1], [1,  0,  0], [0, -1,  0]]),\n",
    "                 np.array([[-1, 0,  0], [0, -1,  0], [0,  0,  1]]),\n",
    "                 np.array([[-1, 0,  0], [0,  0, -1], [0, -1,  0]]),\n",
    "                 np.array([[-1, 0,  0], [0,  1,  0], [0,  0, -1]]),\n",
    "                 np.array([[-1, 0,  0], [0,  0,  1], [0,  1,  0]]),\n",
    "                 np.array([[0, 1, 0], [-1, 0, 0], [0, 0, 1]]),\n",
    "                 np.array([[0, 0, 1], [-1, 0, 0], [0, -1, 0]]),\n",
    "                 np.array([[0, -1, 0], [-1, 0, 0], [0, 0, -1]]),\n",
    "                 np.array([[0, 0, -1], [-1, 0, 0], [0, 1, 0]]),\n",
    "                 np.array([[0, 0, -1], [0, 1, 0], [1, 0, 0]]),\n",
    "                 np.array([[0, 1, 0], [0, 0, 1], [1, 0, 0]]),\n",
    "                 np.array([[0, 0, 1], [0, -1, 0], [1, 0, 0]]),\n",
    "                 np.array([[0, -1, 0], [0, 0, -1], [1, 0, 0]]),\n",
    "                 np.array([[0, 0, -1], [0, -1, 0], [-1, 0, 0]]),\n",
    "                 np.array([[0, -1, 0], [0, 0, 1], [-1, 0, 0]]),\n",
    "                 np.array([[0, 0, 1], [0, 1, 0], [-1, 0, 0]]),\n",
    "                 np.array([[0, 1, 0], [0, 0, -1], [-1, 0, 0]])]\n",
    "\n",
    "#all_rotations = all_rotations + [-r for r in all_rotations]\n",
    "len(all_rotations)"
   ]
  },
  {
   "cell_type": "code",
   "execution_count": null,
   "metadata": {},
   "outputs": [],
   "source": [
    "def propagate_transformations(scanner_idx_0):\n",
    "\n",
    "    while len(scanner_rotations[scanner_idx_0].keys()) < len(all_scanners):\n",
    "        for scanner_idx_0 in [i for i in range(len(all_scanners)) if i not in scanner_translations[0].keys()] + [scanner_idx_0]:# range(len(all_scanners)):\n",
    "            neighbouring_scanner_idxs = list(scanner_rotations[scanner_idx_0].keys())\n",
    "            #print(neighbouring_scanner_idxs)\n",
    "\n",
    "            for scanner_idx_1 in  neighbouring_scanner_idxs:\n",
    "\n",
    "                neighbouring_scanner_idxs_level2 = list(scanner_rotations[scanner_idx_1].keys())\n",
    "                #print(\"Level 2:\", neighbouring_scanner_idxs_level2)\n",
    "\n",
    "                for scanner_idx_2 in neighbouring_scanner_idxs_level2:\n",
    "                    if scanner_idx_2 in scanner_rotations[scanner_idx_0].keys(): continue\n",
    "                    scanner_rotations[scanner_idx_0][scanner_idx_2] = np.matmul(scanner_rotations[scanner_idx_1][scanner_idx_2], scanner_rotations[scanner_idx_0][scanner_idx_1])\n",
    "                    scanner_translations[scanner_idx_0][scanner_idx_2] = np.matmul(scanner_translations[scanner_idx_1][scanner_idx_2], scanner_rotations[scanner_idx_0][scanner_idx_1]) + scanner_translations[scanner_idx_0][scanner_idx_1]\n",
    "\n",
    "            print(sum(sum(get_adj_mat())))\n",
    "            \n",
    "def get_adj_mat():\n",
    "    adj_mat = np.zeros((len(all_scanners), len(all_scanners)))\n",
    "    for idx0, neighbours in scanner_rotations.items():\n",
    "        for idx1 in neighbours.keys():\n",
    "            adj_mat[idx0, idx1] = 1\n",
    "    return adj_mat\n",
    "\n",
    "def transform_beacon_coords(from_scanner, to_scanner, coords):\n",
    "    rotation = scanner_rotations[to_scanner][from_scanner]\n",
    "    translation = scanner_translations[to_scanner][from_scanner]\n",
    "    return np.matmul(coords, rotation) + translation"
   ]
  },
  {
   "cell_type": "code",
   "execution_count": 19,
   "metadata": {
    "tags": []
   },
   "outputs": [
    {
     "name": "stdout",
     "output_type": "stream",
     "text": [
      "Wall time: 2min 42s\n"
     ]
    }
   ],
   "source": [
    "%%time\n",
    "\n",
    "scanner_rotations = {i:dict() for i in range(len(all_scanners))}\n",
    "scanner_translations = {i:dict() for i in range(len(all_scanners))}\n",
    "\n",
    "all_scanners = all_scanners.copy()\n",
    "\n",
    "for scanner_idx_0 in range(len(all_scanners) ): \n",
    "    \n",
    "    scanner0 = all_scanners[scanner_idx_0]\n",
    "    \n",
    "    for scanner_idx_1 in range(len(all_scanners)): \n",
    "        \n",
    "        if scanner_idx_0 == scanner_idx_1: continue\n",
    "        \n",
    "        scanner1 = all_scanners[scanner_idx_1]\n",
    "        \n",
    "        correct_rotation = None\n",
    "\n",
    "        for r in all_rotations:\n",
    "\n",
    "            rotated_scanner1 = np.matmul(scanner1, r)\n",
    "\n",
    "            #possible_translations = [i - j for i, j in zip(scanner0, rotated_scanner1)]\n",
    "            possible_translations = []\n",
    "            for b0 in scanner0:\n",
    "                for b1 in rotated_scanner1:\n",
    "                    possible_translations.append(b0 - b1)\n",
    "                    \n",
    "            translation_frequencies = pd.value_counts([str(list(v)) for v in possible_translations])\n",
    "            if scanner_idx_0 == 5 and scanner_idx_1 == 35: print(r, translation_frequencies)\n",
    "            \n",
    "            if any(translation_frequencies >= 12):\n",
    "                \n",
    "                translation = eval(translation_frequencies.idxmax())\n",
    "\n",
    "                correct_rotation = r\n",
    "                #print(f\"Found the pairs for scanners {scanner_idx_0}, {scanner_idx_1}.\")\n",
    "                #print(\"Rotation:\", r)\n",
    "                #print(\"Translation:\", translation)\n",
    "                \n",
    "                scanner_rotations[scanner_idx_0][scanner_idx_1] = r\n",
    "                scanner_translations[scanner_idx_0][scanner_idx_1] = translation\n",
    "                \n",
    "                break"
   ]
  },
  {
   "cell_type": "code",
   "execution_count": null,
   "metadata": {},
   "outputs": [],
   "source": [
    "propagate_transformations(0)\n",
    "\n",
    "all_beacons = all_scanners[0].copy()\n",
    "\n",
    "for scanner_idx_1 in scanner_rotations[0].keys():\n",
    "    #print(scanner_idx_1)\n",
    "    if scanner_idx_1 == 0: continue\n",
    "    transformed_beacon_coords =  transform_beacon_coords(scanner_idx_1, 0, all_scanners[scanner_idx_1])\n",
    "    all_beacons = np.concatenate((all_beacons, transformed_beacon_coords), axis = 0)\n",
    "\n",
    "all_beacons = np.unique(all_beacons, axis = 0)"
   ]
  },
  {
   "cell_type": "code",
   "execution_count": 22,
   "metadata": {},
   "outputs": [
    {
     "data": {
      "text/plain": [
       "483"
      ]
     },
     "execution_count": 22,
     "metadata": {},
     "output_type": "execute_result"
    }
   ],
   "source": [
    "len(all_beacons)"
   ]
  },
  {
   "cell_type": "code",
   "execution_count": 23,
   "metadata": {},
   "outputs": [
    {
     "name": "stdout",
     "output_type": "stream",
     "text": [
      "783.0\n",
      "797.0\n",
      "813.0\n",
      "833.0\n",
      "853.0\n",
      "870.0\n",
      "884.0\n",
      "905.0\n",
      "916.0\n",
      "931.0\n",
      "948.0\n",
      "971.0\n",
      "1006.0\n",
      "1039.0\n",
      "1066.0\n",
      "1077.0\n",
      "1088.0\n",
      "1115.0\n",
      "1126.0\n",
      "1159.0\n",
      "1170.0\n",
      "1193.0\n",
      "1204.0\n",
      "1215.0\n",
      "1242.0\n",
      "1262.0\n",
      "1295.0\n",
      "1325.0\n",
      "1336.0\n",
      "1356.0\n",
      "1367.0\n",
      "1394.0\n",
      "1420.0\n",
      "1440.0\n",
      "1465.0\n",
      "1485.0\n",
      "1496.0\n",
      "1516.0\n",
      "1543.0\n",
      "1563.0\n",
      "1600.0\n"
     ]
    }
   ],
   "source": [
    "manhattan_distances = []\n",
    "for scanner_idx_0 in range(len(all_scanners) - 1):\n",
    "    for scanner_idx_1 in range(scanner_idx_0 + 1, len(all_scanners)):\n",
    "        if scanner_idx_1 not in scanner_translations[scanner_idx_0].keys():\n",
    "            propagate_transformations(scanner_idx_0)\n",
    "        translation = scanner_translations[scanner_idx_0][scanner_idx_1]\n",
    "        manhattan_distances.append(sum(np.abs(translation)))"
   ]
  },
  {
   "cell_type": "code",
   "execution_count": 24,
   "metadata": {},
   "outputs": [
    {
     "data": {
      "text/plain": [
       "14804"
      ]
     },
     "execution_count": 24,
     "metadata": {},
     "output_type": "execute_result"
    }
   ],
   "source": [
    "max(manhattan_distances)"
   ]
  },
  {
   "cell_type": "markdown",
   "metadata": {
    "jp-MarkdownHeadingCollapsed": true,
    "tags": []
   },
   "source": [
    "# Day 20"
   ]
  },
  {
   "cell_type": "code",
   "execution_count": 74,
   "metadata": {},
   "outputs": [],
   "source": [
    "puzzle = Puzzle(year=2021, day=20)\n",
    "data = lines(puzzle.input_data)"
   ]
  },
  {
   "cell_type": "code",
   "execution_count": 85,
   "metadata": {},
   "outputs": [
    {
     "data": {
      "text/plain": [
       "'#.#.##..#..#..###.#.#....#.########.#.##.#..#.###..###.##.#.##.#.#.....#..##.#.#..###.###.######..#.#..#######.#..#....####..###.####.###.#.#######.#...#...#.##.###..###..##.#.#.###........##.#.....#.##.#.####...#...#.#..###.#.#...#....#...####..#.########.#...#.####.#####..#.#.###......#.##...###..##..#.#..#....#..###.#.##.....##.#####..##.####.#.###....##.###...#.##....##.#..#.#..#..#.##...#.##..#####.####.#.##...##...##...#.##.#.#.####..##...#.....#......#.#......#..###..#..##..##.###..#####..#..##.#..#.'"
      ]
     },
     "execution_count": 85,
     "metadata": {},
     "output_type": "execute_result"
    }
   ],
   "source": [
    "data[0]"
   ]
  },
  {
   "cell_type": "code",
   "execution_count": 69,
   "metadata": {},
   "outputs": [],
   "source": [
    "data = ['..#.#..#####.#.#.#.###.##.....###.##.#..###.####..#####..#....#..#..##..###..######.###...####..#..#####..##..#.#####...##.#.#..#.##..#.#......#.###.######.###.####...#.##.##..#..#..#####.....#.#....###..#.##......#.....#..#..#..##..#...##.######.####.####.#.#...#.......#..#.#.#...####.##.#......#..#...##.#.##..#...##.#.##..###.#......#.#.......#.#.#.####.###.##...#.....####.#..#..#.##.#....##..#.####....##...##..#...#......#.#.......#.......##..####..#...#.#.#...##..#.#..###..#####........#..####......#..#',\n",
    "'',\n",
    "'#..#.',\n",
    "'#....',\n",
    "'##..#',\n",
    "'..#..',\n",
    "'..###']"
   ]
  },
  {
   "cell_type": "code",
   "execution_count": 167,
   "metadata": {
    "tags": []
   },
   "outputs": [],
   "source": [
    "n_steps = 50\n",
    "\n",
    "algorithm = data[0].replace('#', '1').replace('.', '0')\n",
    "input_image = [d.replace('#', '1').replace('.', '0') for d in data[2:]]\n",
    "input_image = np.array([[i for i in d] for d in input_image])#.astype(int)\n",
    "\n",
    "## THIS ONLY WORKS IF algorithm[0] == '#' and algorithm[512] = '.'\n",
    "count = 0\n",
    "for step in range(n_steps):\n",
    "    # Add border of 2 lines around the image\n",
    "    if step % 2 == 0: \n",
    "        input_score_board, np.full((input_image.shape[0] + 4, input_image.shape[1] + 4), '0')\n",
    "        output_image = np.full(input_score_board, output_score_board.shape, '1')\n",
    "    else:\n",
    "        input_score_board, np.full((input_image.shape[0] + 4, input_image.shape[1] + 4), '1')\n",
    "        output_image = np.full(input_score_board, output_score_board.shape, '0')\n",
    "        \n",
    "    input_score_board, output_score_board[2:2+input_image.shape[0], 2:2+input_image.shape[1]] = input_image.copy()\n",
    "    input_image = input_score_board, output_score_board.copy()\n",
    "\n",
    "    for i in range(1, input_image.shape[0]-1):\n",
    "        for j in range(1, input_image.shape[1] - 1):\n",
    "            \n",
    "            \"\"\"start_i = max(i-1, 0)\n",
    "            end_i = min(i+2, input_image.shape[0])\n",
    "            start_j = max(j-1, 0)\n",
    "            end_j = min(j+2, input_image.shape[1])\"\"\"\n",
    "            \n",
    "            flattened_window = input_image[i-1:i+2, j-1:j+2].ravel()\n",
    "            position = int(''.join(list(flattened_window)), 2)\n",
    "            output_image[i, j] = algorithm[position]\n",
    "                          \n",
    "    input_image = output_image.copy()\n",
    "    \n",
    "    #print(input_image)"
   ]
  },
  {
   "cell_type": "code",
   "execution_count": 168,
   "metadata": {},
   "outputs": [
    {
     "data": {
      "text/plain": [
       "20097"
      ]
     },
     "execution_count": 168,
     "metadata": {},
     "output_type": "execute_result"
    }
   ],
   "source": [
    "sum(sum(input_image.astype(int)))"
   ]
  },
  {
   "cell_type": "markdown",
   "metadata": {
    "jp-MarkdownHeadingCollapsed": true,
    "tags": []
   },
   "source": [
    "# Day 21"
   ]
  },
  {
   "cell_type": "code",
   "execution_count": 19,
   "metadata": {},
   "outputs": [],
   "source": [
    "puzzle = Puzzle(year=2021, day=21)\n",
    "data = lines(puzzle.input_data)"
   ]
  },
  {
   "cell_type": "code",
   "execution_count": 20,
   "metadata": {},
   "outputs": [
    {
     "data": {
      "text/plain": [
       "['Player 1 starting position: 7', 'Player 2 starting position: 4']"
      ]
     },
     "execution_count": 20,
     "metadata": {},
     "output_type": "execute_result"
    }
   ],
   "source": [
    "data"
   ]
  },
  {
   "cell_type": "code",
   "execution_count": 3,
   "metadata": {},
   "outputs": [],
   "source": [
    "data = ['Player 1 starting position: 4',\n",
    "'Player 2 starting position: 8']"
   ]
  },
  {
   "cell_type": "code",
   "execution_count": 21,
   "metadata": {},
   "outputs": [
    {
     "data": {
      "text/plain": [
       "(7, 4)"
      ]
     },
     "execution_count": 21,
     "metadata": {},
     "output_type": "execute_result"
    }
   ],
   "source": [
    "player1_start_pos = int(data[0][-1])\n",
    "player2_start_pos = int(data[1][-1])\n",
    "player1_start_pos, player2_start_pos"
   ]
  },
  {
   "cell_type": "code",
   "execution_count": 5,
   "metadata": {},
   "outputs": [],
   "source": [
    "def make_1_move(die_pos, start_pos):\n",
    "    \n",
    "    rolled_die_values = [i if i <= 100 else i%100 for i in die_pos + np.array([1, 2, 3])]\n",
    "    new_die_pos = rolled_die_values[-1]\n",
    "    new_die_pos = new_die_pos if new_die_pos <= 100 else new_die_pos %100\n",
    "    \n",
    "    end_pos = (start_pos + sum(rolled_die_values)) % 10\n",
    "    end_pos = 10 if end_pos == 0 else end_pos\n",
    "    \n",
    "    return new_die_pos, end_pos\n",
    "\n",
    "die_pos = 0\n",
    "player1_pos = player1_start_pos\n",
    "player2_pos = player2_start_pos\n",
    "player1_score = 0\n",
    "player2_score = 0\n",
    "n_rolls = 0\n",
    "\n",
    "while True:\n",
    "    \n",
    "    # Player 1 plays    \n",
    "    die_pos, player1_pos = make_1_move(die_pos, player1_pos)\n",
    "    player1_score += player1_pos\n",
    "    n_rolls += 3\n",
    "    if player1_score >= 1000: break\n",
    "    \n",
    "    # Player 2 plays\n",
    "    die_pos, player2_pos = make_1_move(die_pos, player2_pos)\n",
    "    player2_score += player2_pos\n",
    "    n_rolls += 3\n",
    "    if player2_score >= 1000: break\n",
    "    \n",
    "    #print(\"Player 1 position:\", player1_pos, \"score:\", player1_score)\n",
    "    #print(\"Player 2 position:\", player2_pos, \"score:\", player2_score)"
   ]
  },
  {
   "cell_type": "code",
   "execution_count": 489,
   "metadata": {},
   "outputs": [
    {
     "data": {
      "text/plain": [
       "739785"
      ]
     },
     "execution_count": 489,
     "metadata": {},
     "output_type": "execute_result"
    }
   ],
   "source": [
    "loser_score = player1_score if player1_score < player2_score else player2_score\n",
    "loser_score * n_rolls"
   ]
  },
  {
   "cell_type": "code",
   "execution_count": 22,
   "metadata": {},
   "outputs": [],
   "source": [
    "player1_win_count = 0\n",
    "player2_win_count = 0\n",
    "\n",
    "def create_new_universes(input_score_board, n_moves, n_repetitions, player1_pos, player2_pos, player1_score, player2_score, player1_moving = True):\n",
    "\n",
    "    # Positions = [1, 10]\n",
    "    n_universes_in_config = input_score_board[player1_pos - 1, player2_pos - 1, player1_score, player2_score]\n",
    "    \n",
    "    if n_universes_in_config == 0: \n",
    "        return #output_score_board.copy()\n",
    "    #print(player1_pos, player2_pos, player1_score, player2_score,n_universes_in_config)\n",
    "    \n",
    "    if player1_moving: \n",
    "        new_player1_pos = player1_pos + n_moves\n",
    "        new_player1_pos = new_player1_pos if new_player1_pos <= 10 else new_player1_pos % 10\n",
    "        new_player1_score = player1_score + new_player1_pos\n",
    "        score_board[new_player1_pos - 1, player2_pos - 1, new_player1_score, player2_score] += n_universes_in_config * n_repetitions\n",
    "        #print(new_player1_pos, player2_pos, new_player1_score, player2_score,n_universes_in_config* n_repetitions)\n",
    "        #print()\n",
    "    else:\n",
    "        new_player2_pos = player2_pos + n_moves\n",
    "        new_player2_pos = new_player2_pos if new_player2_pos <= 10 else new_player2_pos % 10\n",
    "        new_player2_score = player2_score + new_player2_pos\n",
    "        score_board[player1_pos - 1, new_player2_pos - 1, player1_score, new_player2_score] += n_universes_in_config * n_repetitions\n",
    "        \n",
    "    #return output_score_board.copy()\n",
    "\n",
    "def print_games(df):\n",
    "    a, b, c, d = np.where(df != 0)\n",
    "    for i in range(len(a)):\n",
    "        print(a[i] + 1, b[i] + 1, c[i], d[i], df[a[i], b[i], c[i], d[i]] )\n",
    "    print()"
   ]
  },
  {
   "cell_type": "code",
   "execution_count": 23,
   "metadata": {},
   "outputs": [
    {
     "data": {
      "text/plain": [
       "(7, 4)"
      ]
     },
     "execution_count": 23,
     "metadata": {},
     "output_type": "execute_result"
    }
   ],
   "source": [
    "player1_start_pos, player2_start_pos"
   ]
  },
  {
   "cell_type": "code",
   "execution_count": 24,
   "metadata": {
    "tags": []
   },
   "outputs": [
    {
     "name": "stdout",
     "output_type": "stream",
     "text": [
      "True\n",
      "N universes remaining in game: 729\n",
      "N universes remaining in game: 531441\n",
      "N universes remaining in game: 275586075\n",
      "N universes remaining in game: 41562755877\n",
      "N universes remaining in game: 1614777104579\n",
      "N universes remaining in game: 12908082816718\n",
      "N universes remaining in game: 6973235686560\n",
      "N universes remaining in game: 121621010764\n",
      "N universes remaining in game: 4984659\n",
      "N universes remaining in game: 0\n"
     ]
    }
   ],
   "source": [
    "from itertools import product\n",
    "score_board = np.zeros((10, 10, 31, 31), dtype = np.int64)#pd.DataFrame(data = 0, index = [str(s) for s in list(product(range(1, 11), range(1, 11)))], columns = [str(s) for s in list(product(range(31), range(31)))], dtype = np.int64)\n",
    "score_board[player1_start_pos - 1, player2_start_pos - 1, 0, 0] = 1\n",
    "#score_board.loc[str((player1_start_pos, player2_start_pos)), str((0, 0))] = 1\n",
    "print(score_board[:, :, :21, :21].sum() > 0)\n",
    "\n",
    "#player1_win_count = 0\n",
    "#player2_win_count = 0\n",
    "\n",
    "while score_board[:, :, :21, :21].sum() > 0:\n",
    "    \n",
    "    # Player 1 plays\n",
    "    \n",
    "    #print_games(input_score_board, output_score_board)\n",
    "    \n",
    "    #for positions, scores in running_games.iterrows():#running_games[(running_games != 0).any(axis = 1)].iterrows():\n",
    "    \"\"\"player1_positions, player2_positions, player1_scores, player2_scores = np.where(input_score_board!=0)\n",
    "    for i in range(len(player1_positions)):\n",
    "        player1_pos = player1_positions[i] + 1 # to get position in [1, 10]\n",
    "        player2_pos = player2_positions[i] + 1\n",
    "        player1_score = player1_scores[i]\n",
    "        player2_score = player2_scores[i]\"\"\"\n",
    "    \n",
    "    for player1_moving in [True, False]:\n",
    "        \n",
    "        input_score_board = score_board.copy()\n",
    "\n",
    "        for player1_pos in range(1, 11):\n",
    "            for player2_pos in range(1, 11):\n",
    "                for player1_score in range(21):\n",
    "                    for player2_score in range(21):\n",
    "\n",
    "                        #if player1_score >= 21 or player2_score >= 21: continue\n",
    "                        \n",
    "                        a = input_score_board[player1_pos - 1, player2_pos - 1, player1_score, player2_score]\n",
    "\n",
    "                        create_new_universes(input_score_board, 3, 1, player1_pos, player2_pos, player1_score, player2_score, player1_moving = player1_moving)\n",
    "                        create_new_universes(input_score_board, 4, 3, player1_pos, player2_pos, player1_score, player2_score, player1_moving = player1_moving)\n",
    "                        create_new_universes(input_score_board, 5, 6, player1_pos, player2_pos, player1_score, player2_score, player1_moving = player1_moving)\n",
    "                        create_new_universes(input_score_board, 6, 7, player1_pos, player2_pos, player1_score, player2_score, player1_moving = player1_moving)\n",
    "                        create_new_universes(input_score_board, 7, 6, player1_pos, player2_pos, player1_score, player2_score, player1_moving = player1_moving)\n",
    "                        create_new_universes(input_score_board, 8, 3, player1_pos, player2_pos, player1_score, player2_score, player1_moving = player1_moving)\n",
    "                        create_new_universes(input_score_board, 9, 1, player1_pos, player2_pos, player1_score, player2_score, player1_moving = player1_moving)\n",
    "\n",
    "                        #if a != score_board[player1_pos - 1, player2_pos - 1, player1_score, player2_score]:\n",
    "                        #    print(\"bananas\")\n",
    "\n",
    "                        if input_score_board[player1_pos - 1, player2_pos - 1, player1_score, player2_score] != 0:\n",
    "                            score_board[player1_pos - 1, player2_pos - 1, player1_score, player2_score] = score_board[player1_pos - 1, player2_pos - 1, player1_score, player2_score] - a  \n",
    "\n",
    "\n",
    "    #score_board = output_score_board.copy()\n",
    " \n",
    "    print(\"N universes remaining in game:\", score_board[:, :, :21, :21].sum())\n",
    "    #print(\"N games player 1 won:\", score_board[:, :, 21:, :].sum())\n",
    "    #print(\"N games player 2 won:\", score_board[:, :, :, 21:].sum())\n",
    "    #print(\"N games ended:\", score_board[:, :, 21:, :].sum() + score_board[:, :, :, 21:].sum())"
   ]
  },
  {
   "cell_type": "code",
   "execution_count": 25,
   "metadata": {},
   "outputs": [
    {
     "data": {
      "text/plain": [
       "(570239341223618, 371697814511699)"
      ]
     },
     "execution_count": 25,
     "metadata": {},
     "output_type": "execute_result"
    }
   ],
   "source": [
    "player1_win_count = score_board[:, :, 21:, :].sum()\n",
    "player2_win_count = score_board[:, :, :, 21:].sum()\n",
    "player1_win_count, player2_win_count"
   ]
  },
  {
   "cell_type": "code",
   "execution_count": 35,
   "metadata": {},
   "outputs": [
    {
     "data": {
      "text/plain": [
       "True"
      ]
     },
     "execution_count": 35,
     "metadata": {},
     "output_type": "execute_result"
    }
   ],
   "source": [
    "player1_win_count < 444356092776315"
   ]
  },
  {
   "cell_type": "code",
   "execution_count": 36,
   "metadata": {},
   "outputs": [
    {
     "data": {
      "text/plain": [
       "True"
      ]
     },
     "execution_count": 36,
     "metadata": {},
     "output_type": "execute_result"
    }
   ],
   "source": [
    "player2_win_count < 341960390180808"
   ]
  },
  {
   "cell_type": "markdown",
   "metadata": {
    "jp-MarkdownHeadingCollapsed": true,
    "tags": []
   },
   "source": [
    "# Day 22"
   ]
  },
  {
   "cell_type": "code",
   "execution_count": 149,
   "metadata": {},
   "outputs": [],
   "source": [
    "puzzle = Puzzle(year=2021, day=22)\n",
    "data = lines(puzzle.input_data)"
   ]
  },
  {
   "cell_type": "code",
   "execution_count": 150,
   "metadata": {},
   "outputs": [],
   "source": [
    "operations = [line[:3].strip() for line in data]\n",
    "coordinates = [line[3:].strip().split(',') for line in data]\n",
    "xs = [c[0].replace('x=', '').split('..') for c in coordinates]\n",
    "x0s = [int(x[0]) for x in xs]\n",
    "x1s = [int(x[1]) for x in xs]\n",
    "ys = [c[1].replace('y=', '').split('..') for c in coordinates]\n",
    "y0s = [int(y[0]) for y in ys]\n",
    "y1s = [int(y[1]) for y in ys]\n",
    "zs = [c[2].replace('z=', '').split('..') for c in coordinates]\n",
    "z0s = [int(z[0]) for z in zs]\n",
    "z1s = [int(z[1]) for z in zs]"
   ]
  },
  {
   "cell_type": "code",
   "execution_count": null,
   "metadata": {},
   "outputs": [],
   "source": []
  },
  {
   "cell_type": "code",
   "execution_count": 151,
   "metadata": {},
   "outputs": [
    {
     "data": {
      "text/plain": [
       "True"
      ]
     },
     "execution_count": 151,
     "metadata": {},
     "output_type": "execute_result"
    }
   ],
   "source": [
    "len(x0s) == len(x1s) == len(y0s) == len(y1s) == len(z0s) == len(z1s)"
   ]
  },
  {
   "cell_type": "code",
   "execution_count": 152,
   "metadata": {},
   "outputs": [
    {
     "data": {
      "text/plain": [
       "420"
      ]
     },
     "execution_count": 152,
     "metadata": {},
     "output_type": "execute_result"
    }
   ],
   "source": [
    "len(x0s)"
   ]
  },
  {
   "cell_type": "code",
   "execution_count": 11,
   "metadata": {},
   "outputs": [
    {
     "name": "stdout",
     "output_type": "stream",
     "text": [
      "419\n",
      "Wall time: 1min 53s\n"
     ]
    }
   ],
   "source": [
    "%%time\n",
    "from IPython.display import clear_output\n",
    "\n",
    "on_coords = set()\n",
    "for i in range(len(x0s)):\n",
    "    clear_output()\n",
    "    print(i)\n",
    "    for x in range(x0s[i], x1s[i] + 1):\n",
    "        if x < -50 or x > 50: continue\n",
    "        for y in range(y0s[i], y1s[i] + 1):\n",
    "            if y < -50 or y > 50: continue\n",
    "            for z in range(z0s[i], z1s[i] + 1):\n",
    "                if z < -50 or z > 50: continue\n",
    "                if operations[i] == 'on':\n",
    "                    on_coords.add((x, y, z))\n",
    "                else:\n",
    "                    if (x, y, z) in on_coords:\n",
    "                        on_coords.remove((x, y, z))"
   ]
  },
  {
   "cell_type": "code",
   "execution_count": 12,
   "metadata": {},
   "outputs": [
    {
     "data": {
      "text/plain": [
       "600458"
      ]
     },
     "execution_count": 12,
     "metadata": {},
     "output_type": "execute_result"
    }
   ],
   "source": [
    "len(on_coords)"
   ]
  },
  {
   "cell_type": "code",
   "execution_count": 153,
   "metadata": {},
   "outputs": [],
   "source": [
    "class Cube:\n",
    "    \n",
    "    def __init__(self, kind, x0, x1, y0, y1, z0, z1, volume):\n",
    "        self.kind = kind\n",
    "        self.x0 = x0\n",
    "        self.x1 = x1\n",
    "        self.y0 = y0\n",
    "        self.y1 = y1\n",
    "        self.z0 = z0\n",
    "        self.z1 = z1\n",
    "        self.volume = self.calculate_volume() if kind == 'on' else -self.calculate_volume()\n",
    "        \n",
    "    def display(self):\n",
    "        print(f\"{self.kind} x0 = {self.x0}, x1 = {self.x1}, y0 = {self.y0}, y1 = {self.y1}, z0 = {self.z0}, z1 = {self.z1}, volume = {self.volume}\")\n",
    "        \n",
    "    def find_overlap_w_cube(self, original_cube):\n",
    "        overlap_x0 = max(self.x0, original_cube.x0)\n",
    "        overlap_x1 = min(self.x1, original_cube.x1)\n",
    "        overlap_y0 = max(self.y0, original_cube.y0)\n",
    "        overlap_y1 = min(self.y1, original_cube.y1)\n",
    "        overlap_z0 = max(self.z0, original_cube.z0)\n",
    "        overlap_z1 = min(self.z1, original_cube.z1)\n",
    "        if overlap_x1 >= overlap_x0 and overlap_y1 >= overlap_y0 and overlap_z1 >= overlap_z0:\n",
    "            return overlap_x0, overlap_x1, overlap_y0, overlap_y1, overlap_z0, overlap_z1\n",
    "        else: return None\n",
    "    \n",
    "    def calculate_volume(self):\n",
    "        return (self.x1 - self.x0 + 1) * (self.y1 - self.y0 + 1) * (self.z1 - self.z0 + 1)\n",
    "            \n",
    "class CubeSet:\n",
    "    \n",
    "    def __init__(self):\n",
    "        self.cubes = []\n",
    "        \n",
    "    def add_cube(self, new_cube):\n",
    "        \n",
    "        if new_cube.kind == 'on':\n",
    "            cubes_to_add = [new_cube]\n",
    "        else:\n",
    "            cubes_to_add = []\n",
    "            \n",
    "        for cube in self.cubes:\n",
    "            intersection = new_cube.find_overlap_w_cube(cube)\n",
    "            if intersection is None: continue\n",
    "            if cube.kind == 'on': cubes_to_add.append(Cube('off', *intersection))\n",
    "            else: cubes_to_add.append(Cube('on', *intersection))\n",
    "            \n",
    "        self.cubes += cubes_to_add\n",
    "        \n",
    "    def get_n_on(self):\n",
    "        return sum([cube.volume for cube in self.cubes])"
   ]
  },
  {
   "cell_type": "code",
   "execution_count": 157,
   "metadata": {},
   "outputs": [
    {
     "name": "stdout",
     "output_type": "stream",
     "text": [
      "Wall time: 7.66 s\n"
     ]
    }
   ],
   "source": [
    "%%time\n",
    "cube_set = CubeSet()\n",
    "\n",
    "for i in range(len(x0s)):\n",
    "    new_cube = Cube(operations[i], x0s[i], x1s[i], y0s[i], y1s[i], z0s[i], z1s[i])\n",
    "    cube_set.add_cube(new_cube)"
   ]
  },
  {
   "cell_type": "code",
   "execution_count": 155,
   "metadata": {},
   "outputs": [
    {
     "data": {
      "text/plain": [
       "1334275219162622"
      ]
     },
     "execution_count": 155,
     "metadata": {},
     "output_type": "execute_result"
    }
   ],
   "source": [
    "cube_set.get_n_on()"
   ]
  },
  {
   "cell_type": "markdown",
   "metadata": {
    "jp-MarkdownHeadingCollapsed": true,
    "tags": []
   },
   "source": [
    "# Day 23"
   ]
  },
  {
   "cell_type": "code",
   "execution_count": 3,
   "metadata": {},
   "outputs": [],
   "source": [
    "puzzle = Puzzle(year=2021, day=23)\n",
    "data = lines(puzzle.input_data)"
   ]
  },
  {
   "cell_type": "code",
   "execution_count": 4,
   "metadata": {},
   "outputs": [
    {
     "data": {
      "text/plain": [
       "['#############',\n",
       " '#...........#',\n",
       " '###B#B#C#D###',\n",
       " '  #D#C#A#A#',\n",
       " '  #########']"
      ]
     },
     "execution_count": 4,
     "metadata": {},
     "output_type": "execute_result"
    }
   ],
   "source": [
    "data"
   ]
  },
  {
   "cell_type": "code",
   "execution_count": 3,
   "metadata": {},
   "outputs": [],
   "source": [
    "from random import shuffle\n",
    "\n",
    "def BFS_SP(graph, start, goal):\n",
    "    explored = []\n",
    "     \n",
    "    # Queue for traversing the\n",
    "    # graph in the BFS\n",
    "    queue = [[start]]\n",
    "     \n",
    "    # If the desired node is\n",
    "    # reached\n",
    "    if start == goal:\n",
    "        print(\"Same Node\")\n",
    "        return\n",
    "     \n",
    "    # Loop to traverse the graph\n",
    "    # with the help of the queue\n",
    "    while queue:\n",
    "        path = queue.pop(0)\n",
    "        node = path[-1]\n",
    "         \n",
    "        # Condition to check if the\n",
    "        # current node is not visited\n",
    "        if node not in explored:\n",
    "            neighbours = graph[node]\n",
    "             \n",
    "            # Loop to iterate over the\n",
    "            # neighbours of the node\n",
    "            for neighbour in neighbours:\n",
    "                new_path = list(path)\n",
    "                new_path.append(neighbour)\n",
    "                queue.append(new_path)\n",
    "                 \n",
    "                # Condition to check if the\n",
    "                # neighbour node is the goal\n",
    "                if neighbour == goal:\n",
    "                    #print(\"Shortest path = \", *new_path)\n",
    "                    return new_path\n",
    "            explored.append(node)\n",
    " \n",
    "    # Condition when the nodes\n",
    "    # are not connected\n",
    "    print(\"So sorry, but a connecting\"\\\n",
    "                \"path doesn't exist :(\")\n",
    "    return\n",
    "\n",
    "class Amphipod:\n",
    "    \n",
    "    def __init__(self, letter, init_position):\n",
    "        self.letter = letter\n",
    "        self.position = init_position\n",
    "        self.has_ever_been_outside = False\n",
    "        self.burrow_positions = []\n",
    "    \n",
    "    def move(self, new_position):\n",
    "        if new_position not in self.burrow_positions:\n",
    "            if self.has_ever_been_outside: return None\n",
    "            else:\n",
    "                self.position = new_position\n",
    "                self.has_ever_been_outside = True\n",
    "                return new_position\n",
    "        self.position = new_position\n",
    "        return new_position\n",
    "        \n",
    "    def is_in_right_burrow(self):\n",
    "        return self.position in self.burrow_positions\n",
    "    \n",
    "    def get_energy_multiplier(self):\n",
    "        if self.letter == 'A': return 1\n",
    "        if self.letter == 'B': return 10\n",
    "        if self.letter == 'C': return 100\n",
    "        if self.letter == 'D': return 1000\n",
    "    \n",
    "    def is_in_final_position(self, state):\n",
    "        if self.position not in self.burrow_positions: return False\n",
    "        return all(state[self.position:max(self.burrow_positions) + 1] == self.letter)\n",
    "    \n",
    "class Burrows:\n",
    "    \n",
    "    def __init__(self, size = 19):\n",
    "        self.amphipods = []\n",
    "        self.size = size\n",
    "        self.burrow_size = int((size - 11) / 4)\n",
    "        self.spent_energy = 0\n",
    "        self.burrow_map = {0: [1],\n",
    "                    1: [0, 2],\n",
    "                    2: [1, 3, 11],\n",
    "                    3: [2, 4],\n",
    "                    4: [3, 5, 11 + self.burrow_size],\n",
    "                    5: [4, 6],\n",
    "                    6: [5, 7, 11 + 2*self.burrow_size],\n",
    "                    7: [6, 8],\n",
    "                    8: [7, 9, 11 + 3*self.burrow_size],\n",
    "                    9: [8, 10],\n",
    "                    10: [9]}\n",
    "\n",
    "        for i in range(4):\n",
    "            burrow_top = 11 + i*self.burrow_size\n",
    "            self.burrow_map[burrow_top] = [[2, 4, 6, 8][i], burrow_top + 1]\n",
    "            for j in range(1, self.burrow_size - 1):\n",
    "                self.burrow_map[burrow_top + j] = [burrow_top + j - 1, burrow_top + j + 1]\n",
    "            self.burrow_map[burrow_top + self.burrow_size - 1] = [burrow_top + self.burrow_size - 2]\n",
    "\n",
    "        self.state = np.full(shape=(self.size), fill_value = '.')\n",
    "        \n",
    "        self.burrow_positions = list(range(11, self.size))\n",
    "        self.burrow_positions_per_letter = {['A', 'B', 'C', 'D'][i]: list(range(11+i*self.burrow_size, 11+(i+1)*self.burrow_size)) for i in range(4)}\n",
    "        \n",
    "    def print_state(self):\n",
    "        print(\"#############\")\n",
    "        print(f\"#{''.join([self.state[i] for i in range(11)])}#\")\n",
    "        for i in range(self.burrow_size):\n",
    "            print(f\"###{self.state[11 + i]}#{self.state[11 + self.burrow_size + i]}#{self.state[11 + 2*self.burrow_size + i]}#{self.state[11 + 3*self.burrow_size + i]}###\")\n",
    "        print(\"  #########  \")\n",
    "    \n",
    "    def add_amphipod(self, amphipod):\n",
    "        amphipod.burrow_positions = self.burrow_positions_per_letter[amphipod.letter]\n",
    "        self.amphipods.append(amphipod)\n",
    "        self.state[amphipod.position] = amphipod.letter\n",
    "        \n",
    "    def find_available_positions(self):\n",
    "        return [i for i in range(self.size) if i not in [2, 4, 6, 8] + [amphipod.position for amphipod in self.amphipods]]\n",
    "    \n",
    "    def is_game_over(self):\n",
    "        return all([amphipod.is_in_right_burrow() for amphipod in self.amphipods])\n",
    "    \n",
    "    def list_allowed_movements(self, previous_moved_amphipod_idx = None):\n",
    "        allowed_movements = []\n",
    "        energies = []\n",
    "        available_positions = self.find_available_positions()\n",
    "        \n",
    "        burrow_moves_idx = []\n",
    "        idx = 0\n",
    "        for i, amphipod in enumerate(self.amphipods):\n",
    "            if amphipod.is_in_final_position(self.state): continue\n",
    "            if previous_moved_amphipod_idx is not None and i == previous_moved_amphipod_idx: continue\n",
    "            for new_position in available_positions:\n",
    "                \n",
    "                # If the new position is in a burrow it must be in the burrow that corresponds to the amphipod\n",
    "                if new_position in self.burrow_positions and new_position not in self.burrow_positions_per_letter[amphipod.letter]: \n",
    "                    #print(amphipod.position, new_position,\"Amphipode can only be moved to it's own burrow\")\n",
    "                    continue\n",
    "                \n",
    "                # If it's in the right burrow then we should make sure that there is not another different amphipod bellow or we don't leave an empty space\n",
    "                if new_position in self.burrow_positions:\n",
    "                    if not all(self.state[new_position + 1:max(self.burrow_positions_per_letter[amphipod.letter]) + 1] == amphipod.letter):\n",
    "                        #print(amphipod.position, new_position,\"Don't want to leave an empty space or amphipod locked in\")\n",
    "                        continue\n",
    "                \n",
    "                # If it's outside we need to check that the amphipod can still move there\n",
    "                if new_position not in self.burrow_positions and amphipod.has_ever_been_outside: \n",
    "                    #print(amphipod.position, new_position, \"Amphipod cannot be moved twice to outside a burrow\")\n",
    "                    continue\n",
    "                \n",
    "                # Check that the path is free\n",
    "                path = BFS_SP(self.burrow_map, amphipod.position, new_position)\n",
    "                if any(self.state[path[1:]] != '.'): \n",
    "                    #print(amphipod.position, new_position, \"There is another amphipod on the way\")\n",
    "                    continue\n",
    "                \n",
    "                if new_position in self.burrow_positions_per_letter[amphipod.letter]: \n",
    "                    burrow_moves_idx.append(idx)\n",
    "                \n",
    "                allowed_movements.append((i, new_position, amphipod.get_energy_multiplier() * (len(path) - 1)))\n",
    "                #print(allowed_movements[-1])\n",
    "                \n",
    "                idx += 1\n",
    "\n",
    "        #return sorted(allowed_movements, key=lambda pair: pair[2])\n",
    "        temp = [allowed_movements[i] for i in range(len(allowed_movements)) if i not in burrow_moves_idx]\n",
    "        shuffle(temp)\n",
    "        return [allowed_movements[i] for i in burrow_moves_idx] + temp\n",
    "    \n",
    "    def move_amphipod(self, movement):\n",
    "        amphipod_idx, new_position, energy = movement\n",
    "        old_position = self.amphipods[amphipod_idx].position\n",
    "        move_position = self.amphipods[amphipod_idx].move(new_position)\n",
    "        if move_position is None: return None\n",
    "        self.state[old_position] = '.'\n",
    "        self.state[new_position] = self.amphipods[amphipod_idx].letter\n",
    "        self.spent_energy += energy\n",
    "        return move_position"
   ]
  },
  {
   "cell_type": "code",
   "execution_count": 6,
   "metadata": {},
   "outputs": [],
   "source": [
    "def setup():\n",
    "    burrows = Burrows()\n",
    "    burrows.add_amphipod(Amphipod('B', 11)) #0\n",
    "    burrows.add_amphipod(Amphipod('D', 12)) #1\n",
    "    burrows.add_amphipod(Amphipod('B', 13)) #2\n",
    "    burrows.add_amphipod(Amphipod('C', 14)) #3\n",
    "    burrows.add_amphipod(Amphipod('C', 15)) #4\n",
    "    burrows.add_amphipod(Amphipod('A', 16)) #5\n",
    "    burrows.add_amphipod(Amphipod('D', 17)) #6\n",
    "    burrows.add_amphipod(Amphipod('A', 18)) #7\n",
    "    return burrows"
   ]
  },
  {
   "cell_type": "code",
   "execution_count": 7,
   "metadata": {
    "tags": []
   },
   "outputs": [
    {
     "name": "stdout",
     "output_type": "stream",
     "text": [
      "#############\n",
      "#...........#\n",
      "###B#B#C#D###\n",
      "###D#C#A#A###\n",
      "  #########  \n"
     ]
    }
   ],
   "source": [
    "game = setup()\n",
    "game.print_state()"
   ]
  },
  {
   "cell_type": "code",
   "execution_count": 8,
   "metadata": {
    "tags": []
   },
   "outputs": [
    {
     "name": "stdout",
     "output_type": "stream",
     "text": [
      "#############\n",
      "#.......C...#\n",
      "###B#B#.#D###\n",
      "###D#C#A#A###\n",
      "  #########  \n"
     ]
    }
   ],
   "source": [
    "move = (4, 7, 200)\n",
    "if move in game.list_allowed_movements():\n",
    "    moved_position = game.move_amphipod(move)\n",
    "    \n",
    "game.print_state()"
   ]
  },
  {
   "cell_type": "code",
   "execution_count": 153,
   "metadata": {
    "tags": []
   },
   "outputs": [
    {
     "name": "stdout",
     "output_type": "stream",
     "text": [
      "#############\n",
      "#.A.....C...#\n",
      "###B#B#.#D###\n",
      "###D#C#.#A###\n",
      "  #########  \n"
     ]
    }
   ],
   "source": [
    "move = (5, 1, 7)\n",
    "if move in game.list_allowed_movements():\n",
    "    moved_position = game.move_amphipod(move)\n",
    "else: print(\"Move not allowed\")\n",
    "game.print_state()"
   ]
  },
  {
   "cell_type": "code",
   "execution_count": 154,
   "metadata": {
    "tags": []
   },
   "outputs": [
    {
     "name": "stdout",
     "output_type": "stream",
     "text": [
      "#############\n",
      "#.A.B...C...#\n",
      "###B#.#.#D###\n",
      "###D#C#.#A###\n",
      "  #########  \n"
     ]
    }
   ],
   "source": [
    "move = (2, 3, 20)\n",
    "if move in game.list_allowed_movements():\n",
    "    moved_position = game.move_amphipod(move)\n",
    "else: print(\"Move not allowed\")\n",
    "game.print_state()"
   ]
  },
  {
   "cell_type": "code",
   "execution_count": 155,
   "metadata": {
    "tags": []
   },
   "outputs": [
    {
     "name": "stdout",
     "output_type": "stream",
     "text": [
      "#############\n",
      "#.A.B.......#\n",
      "###B#.#.#D###\n",
      "###D#C#C#A###\n",
      "  #########  \n"
     ]
    }
   ],
   "source": [
    "move = (4, 16, 300)\n",
    "if move in game.list_allowed_movements():\n",
    "    moved_position = game.move_amphipod(move)\n",
    "else: print(\"Move not allowed\")\n",
    "game.print_state()"
   ]
  },
  {
   "cell_type": "code",
   "execution_count": 156,
   "metadata": {
    "tags": []
   },
   "outputs": [
    {
     "name": "stdout",
     "output_type": "stream",
     "text": [
      "#############\n",
      "#.A.B.......#\n",
      "###B#.#C#D###\n",
      "###D#.#C#A###\n",
      "  #########  \n"
     ]
    }
   ],
   "source": [
    "move = (3, 15, 500)\n",
    "if move in game.list_allowed_movements():\n",
    "    moved_position = game.move_amphipod(move)\n",
    "else: print(\"Move not allowed\")\n",
    "game.print_state()"
   ]
  },
  {
   "cell_type": "code",
   "execution_count": 157,
   "metadata": {
    "tags": []
   },
   "outputs": [
    {
     "name": "stdout",
     "output_type": "stream",
     "text": [
      "#############\n",
      "#.A.........#\n",
      "###B#.#C#D###\n",
      "###D#B#C#A###\n",
      "  #########  \n"
     ]
    }
   ],
   "source": [
    "move = (2, 14, 30)\n",
    "if move in game.list_allowed_movements():\n",
    "    moved_position = game.move_amphipod(move)\n",
    "else: print(\"Move not allowed\")\n",
    "game.print_state()"
   ]
  },
  {
   "cell_type": "code",
   "execution_count": 158,
   "metadata": {
    "tags": []
   },
   "outputs": [
    {
     "name": "stdout",
     "output_type": "stream",
     "text": [
      "#############\n",
      "#.A.........#\n",
      "###.#B#C#D###\n",
      "###D#B#C#A###\n",
      "  #########  \n"
     ]
    }
   ],
   "source": [
    "move = (0, 13, 40)\n",
    "if move in game.list_allowed_movements():\n",
    "    moved_position = game.move_amphipod(move)\n",
    "else: print(\"Move not allowed\")\n",
    "game.print_state()"
   ]
  },
  {
   "cell_type": "code",
   "execution_count": 159,
   "metadata": {
    "tags": []
   },
   "outputs": [
    {
     "name": "stdout",
     "output_type": "stream",
     "text": [
      "#############\n",
      "#.A.....D...#\n",
      "###.#B#C#.###\n",
      "###D#B#C#A###\n",
      "  #########  \n"
     ]
    }
   ],
   "source": [
    "move = (6, 7, 2000)\n",
    "if move in game.list_allowed_movements():\n",
    "    moved_position = game.move_amphipod(move)\n",
    "else: print(\"Move not allowed\")\n",
    "game.print_state()"
   ]
  },
  {
   "cell_type": "code",
   "execution_count": 160,
   "metadata": {
    "tags": []
   },
   "outputs": [
    {
     "name": "stdout",
     "output_type": "stream",
     "text": [
      "#############\n",
      "#.A.....D.A.#\n",
      "###.#B#C#.###\n",
      "###D#B#C#.###\n",
      "  #########  \n"
     ]
    }
   ],
   "source": [
    "move = (7, 9, 3)\n",
    "if move in game.list_allowed_movements():\n",
    "    moved_position = game.move_amphipod(move)\n",
    "else: print(\"Move not allowed\")\n",
    "game.print_state()"
   ]
  },
  {
   "cell_type": "code",
   "execution_count": 161,
   "metadata": {
    "tags": []
   },
   "outputs": [
    {
     "name": "stdout",
     "output_type": "stream",
     "text": [
      "#############\n",
      "#.A.......A.#\n",
      "###.#B#C#.###\n",
      "###D#B#C#D###\n",
      "  #########  \n"
     ]
    }
   ],
   "source": [
    "move = (6, 18, 3000)\n",
    "if move in game.list_allowed_movements():\n",
    "    moved_position = game.move_amphipod(move)\n",
    "else: print(\"Move not allowed\")\n",
    "game.print_state()"
   ]
  },
  {
   "cell_type": "code",
   "execution_count": 162,
   "metadata": {
    "tags": []
   },
   "outputs": [
    {
     "data": {
      "text/plain": [
       "[(1, 17, 9000), (1, 3, 3000), (1, 5, 5000), (1, 7, 7000)]"
      ]
     },
     "execution_count": 162,
     "metadata": {},
     "output_type": "execute_result"
    }
   ],
   "source": [
    "game.list_allowed_movements()"
   ]
  },
  {
   "cell_type": "code",
   "execution_count": 163,
   "metadata": {
    "tags": []
   },
   "outputs": [
    {
     "name": "stdout",
     "output_type": "stream",
     "text": [
      "#############\n",
      "#.A.......A.#\n",
      "###.#B#C#D###\n",
      "###.#B#C#D###\n",
      "  #########  \n"
     ]
    }
   ],
   "source": [
    "move = (1, 17, 9000)\n",
    "if move in game.list_allowed_movements():\n",
    "    moved_position = game.move_amphipod(move)\n",
    "else: print(\"Move not allowed\")\n",
    "game.print_state()"
   ]
  },
  {
   "cell_type": "code",
   "execution_count": 164,
   "metadata": {
    "tags": []
   },
   "outputs": [
    {
     "name": "stdout",
     "output_type": "stream",
     "text": [
      "#############\n",
      "#.........A.#\n",
      "###.#B#C#D###\n",
      "###A#B#C#D###\n",
      "  #########  \n"
     ]
    }
   ],
   "source": [
    "move = (5, 12, 3)\n",
    "if move in game.list_allowed_movements():\n",
    "    moved_position = game.move_amphipod(move)\n",
    "else: print(\"Move not allowed\")\n",
    "game.print_state()"
   ]
  },
  {
   "cell_type": "code",
   "execution_count": 165,
   "metadata": {
    "tags": []
   },
   "outputs": [
    {
     "name": "stdout",
     "output_type": "stream",
     "text": [
      "#############\n",
      "#...........#\n",
      "###A#B#C#D###\n",
      "###A#B#C#D###\n",
      "  #########  \n"
     ]
    }
   ],
   "source": [
    "move = (7, 11, 8)\n",
    "if move in game.list_allowed_movements():\n",
    "    moved_position = game.move_amphipod(move)\n",
    "else: print(\"Move not allowed\")\n",
    "game.print_state()"
   ]
  },
  {
   "cell_type": "code",
   "execution_count": 166,
   "metadata": {},
   "outputs": [
    {
     "data": {
      "text/plain": [
       "True"
      ]
     },
     "execution_count": 166,
     "metadata": {},
     "output_type": "execute_result"
    }
   ],
   "source": [
    "game.is_game_over()"
   ]
  },
  {
   "cell_type": "code",
   "execution_count": 9,
   "metadata": {},
   "outputs": [
    {
     "name": "stdout",
     "output_type": "stream",
     "text": [
      "Found a new best 17147\n",
      "Found a new best 15251\n",
      "Found a new best 15191\n",
      "Found a new best 15151\n",
      "Found a new best 15133\n",
      "Found a new best 15113\n",
      "Found a new best 15111\n"
     ]
    },
    {
     "name": "stderr",
     "output_type": "stream",
     "text": [
      "ERROR:root:Internal Python error in the inspect module.\n",
      "Below is the traceback from this internal error.\n",
      "\n",
      "\n",
      "KeyboardInterrupt\n",
      "\n"
     ]
    }
   ],
   "source": [
    "from IPython.display import clear_output\n",
    "\n",
    "best_score = np.inf\n",
    "initial_game = setup()\n",
    "move_stack = [[(4, 7, 200)]]#[[move] for move in initial_game.list_allowed_movements()]\n",
    "\n",
    "#explored_configurations = []\n",
    "\n",
    "while len(move_stack) > 0:\n",
    "\n",
    "    stack = move_stack.pop(0)\n",
    "    \n",
    "    game = setup()\n",
    "    for move in stack:\n",
    "        moved_position = game.move_amphipod(move)\n",
    "\n",
    "    if game.is_game_over():\n",
    "        #print(\"Current best score\", best_score)\n",
    "        if game.spent_energy < best_score: \n",
    "            best_score = game.spent_energy\n",
    "            print(\"Found a new best\", best_score)\n",
    "        continue\n",
    "        \n",
    "    if game.spent_energy > best_score: continue\n",
    "    #if any([all(game.state == s) for s in explored_configurations]): continue\n",
    "    else:\n",
    "        previously_moved_amphipod_idx = stack[-1][0]\n",
    "        new_allowed_moves = game.list_allowed_movements(previously_moved_amphipod_idx)\n",
    "        move_stack = [stack + [move] for move in new_allowed_moves] + move_stack\n",
    "        #explored_configurations.append(game.state)"
   ]
  },
  {
   "cell_type": "code",
   "execution_count": 10,
   "metadata": {},
   "outputs": [
    {
     "data": {
      "text/plain": [
       "15111"
      ]
     },
     "execution_count": 10,
     "metadata": {},
     "output_type": "execute_result"
    }
   ],
   "source": [
    "best_score"
   ]
  },
  {
   "cell_type": "markdown",
   "metadata": {},
   "source": [
    "## Part 2"
   ]
  },
  {
   "cell_type": "code",
   "execution_count": 4,
   "metadata": {},
   "outputs": [],
   "source": [
    "def setup():\n",
    "    burrows = Burrows(27)\n",
    "    burrows.add_amphipod(Amphipod('B', 11)) #0\n",
    "    burrows.add_amphipod(Amphipod('D', 12)) #1\n",
    "    burrows.add_amphipod(Amphipod('D', 13)) #2\n",
    "    burrows.add_amphipod(Amphipod('D', 14)) #3\n",
    "    burrows.add_amphipod(Amphipod('B', 15)) #4\n",
    "    burrows.add_amphipod(Amphipod('C', 16)) #5\n",
    "    burrows.add_amphipod(Amphipod('B', 17)) #6\n",
    "    burrows.add_amphipod(Amphipod('C', 18)) #7\n",
    "    burrows.add_amphipod(Amphipod('C', 19)) #8\n",
    "    burrows.add_amphipod(Amphipod('B', 20)) #9\n",
    "    burrows.add_amphipod(Amphipod('A', 21)) #10\n",
    "    burrows.add_amphipod(Amphipod('A', 22)) #11\n",
    "    burrows.add_amphipod(Amphipod('D', 23)) #12\n",
    "    burrows.add_amphipod(Amphipod('A', 24)) #13\n",
    "    burrows.add_amphipod(Amphipod('C', 25)) #14\n",
    "    burrows.add_amphipod(Amphipod('A', 26)) #15\n",
    "    return burrows"
   ]
  },
  {
   "cell_type": "code",
   "execution_count": 5,
   "metadata": {},
   "outputs": [
    {
     "name": "stdout",
     "output_type": "stream",
     "text": [
      "#############\n",
      "#...........#\n",
      "###B#B#C#D###\n",
      "###D#C#B#A###\n",
      "###D#B#A#C###\n",
      "###D#C#A#A###\n",
      "  #########  \n"
     ]
    }
   ],
   "source": [
    "setup().print_state()"
   ]
  },
  {
   "cell_type": "code",
   "execution_count": 6,
   "metadata": {},
   "outputs": [
    {
     "name": "stdout",
     "output_type": "stream",
     "text": [
      "Found a new best 48585\n",
      "Found a new best 48565\n",
      "Found a new best 47625\n"
     ]
    }
   ],
   "source": [
    "from IPython.display import clear_output\n",
    "\n",
    "best_score = np.inf\n",
    "initial_game = setup()\n",
    "move_stack = [[move] for move in initial_game.list_allowed_movements()]\n",
    "\n",
    "#explored_configurations = []\n",
    "\n",
    "while len(move_stack) > 0:\n",
    "\n",
    "    stack = move_stack.pop(0)\n",
    "    \n",
    "    game = setup()\n",
    "    for move in stack:\n",
    "        moved_position = game.move_amphipod(move)\n",
    "\n",
    "    if game.is_game_over():\n",
    "        #print(\"Current best score\", best_score)\n",
    "        if game.spent_energy < best_score: \n",
    "            best_score = game.spent_energy\n",
    "            print(\"Found a new best\", best_score)\n",
    "        continue\n",
    "        \n",
    "    if game.spent_energy > best_score: continue\n",
    "    #if any([all(game.state == s) for s in explored_configurations]): continue\n",
    "    else:\n",
    "        previously_moved_amphipod_idx = stack[-1][0]\n",
    "        new_allowed_moves = game.list_allowed_movements(previously_moved_amphipod_idx)\n",
    "        move_stack = [stack + [move] for move in new_allowed_moves] + move_stack\n",
    "        #explored_configurations.append(game.state)"
   ]
  },
  {
   "cell_type": "code",
   "execution_count": 7,
   "metadata": {},
   "outputs": [
    {
     "data": {
      "text/plain": [
       "47625"
      ]
     },
     "execution_count": 7,
     "metadata": {},
     "output_type": "execute_result"
    }
   ],
   "source": [
    "best_score"
   ]
  },
  {
   "cell_type": "markdown",
   "metadata": {},
   "source": [
    "# Day 24\n",
    "Solved by hand"
   ]
  },
  {
   "cell_type": "markdown",
   "metadata": {
    "jp-MarkdownHeadingCollapsed": true,
    "tags": []
   },
   "source": [
    "# Day 25"
   ]
  },
  {
   "cell_type": "code",
   "execution_count": 55,
   "metadata": {},
   "outputs": [],
   "source": [
    "puzzle = Puzzle(year=2021, day=25)\n",
    "data = lines(puzzle.input_data)"
   ]
  },
  {
   "cell_type": "code",
   "execution_count": 45,
   "metadata": {},
   "outputs": [],
   "source": [
    "data = ['v...>>.vv>',\n",
    "'.vv>>.vv..',\n",
    "'>>.>v>...v',\n",
    "'>>v>>.>.v.',\n",
    "'v>v.vv.v..',\n",
    "'>.>>..v...',\n",
    "'.vv..>.>v.',\n",
    "'v.v..>>v.v',\n",
    "'....v..v.>']"
   ]
  },
  {
   "cell_type": "code",
   "execution_count": 56,
   "metadata": {},
   "outputs": [],
   "source": [
    "data = [[letter for letter in line] for line in data]\n",
    "data = np.array(data)\n",
    "cucumber_map = np.zeros(data.shape)\n",
    "cucumber_map[data == '>'] = 1\n",
    "cucumber_map[data == 'v'] = 2\n",
    "cucumber_map = cucumber_map.astype(int)"
   ]
  },
  {
   "cell_type": "code",
   "execution_count": 57,
   "metadata": {},
   "outputs": [],
   "source": [
    "def move_cucumbers(cucumber_map, direction = 'east'):\n",
    "    new_cucumber_map = cucumber_map.copy()\n",
    "    moved_cucumbers = 0\n",
    "    \n",
    "    if direction == 'east':\n",
    "        rows, cols = np.where(cucumber_map == 1)\n",
    "    else:\n",
    "        rows, cols = np.where(cucumber_map == 2)\n",
    "        \n",
    "    for i, j in zip(rows, cols):\n",
    "        if direction == 'east':\n",
    "            next_i = i\n",
    "            next_j = j + 1 if j + 1 < cucumber_map.shape[1] else 0\n",
    "        else:\n",
    "            next_i = i + 1 if i + 1 < cucumber_map.shape[0] else 0\n",
    "            next_j = j \n",
    "            \n",
    "        # If the next position is free move the cucumbers\n",
    "        if cucumber_map[next_i, next_j] == 0:\n",
    "            moved_cucumbers += 1\n",
    "            new_cucumber_map[i, j] = 0\n",
    "            new_cucumber_map[next_i, next_j] = 1 if direction == 'east' else 2\n",
    "            \n",
    "    return new_cucumber_map, moved_cucumbers"
   ]
  },
  {
   "cell_type": "code",
   "execution_count": 58,
   "metadata": {},
   "outputs": [],
   "source": [
    "# Take 1 step\n",
    "new_cucumber_map, moved_east_cucumbers = move_cucumbers(cucumber_map, direction = 'east')\n",
    "new_cucumber_map, moved_south_cucumbers = move_cucumbers(new_cucumber_map, direction = 'south')\n",
    "\n",
    "total_moved_cucumbers = moved_east_cucumbers + moved_south_cucumbers\n",
    "\n",
    "step_count = 1\n",
    "\n",
    "while total_moved_cucumbers != 0:\n",
    "    new_cucumber_map, moved_east_cucumbers = move_cucumbers(new_cucumber_map, direction = 'east')\n",
    "    new_cucumber_map, moved_south_cucumbers = move_cucumbers(new_cucumber_map, direction = 'south')\n",
    "\n",
    "    total_moved_cucumbers = moved_east_cucumbers + moved_south_cucumbers\n",
    "    step_count += 1"
   ]
  },
  {
   "cell_type": "code",
   "execution_count": 59,
   "metadata": {},
   "outputs": [
    {
     "data": {
      "text/plain": [
       "424"
      ]
     },
     "execution_count": 59,
     "metadata": {},
     "output_type": "execute_result"
    }
   ],
   "source": [
    "step_count"
   ]
  },
  {
   "cell_type": "code",
   "execution_count": null,
   "metadata": {},
   "outputs": [],
   "source": []
  }
 ],
 "metadata": {
  "kernelspec": {
   "display_name": "Python 3",
   "language": "python",
   "name": "python3"
  },
  "language_info": {
   "codemirror_mode": {
    "name": "ipython",
    "version": 3
   },
   "file_extension": ".py",
   "mimetype": "text/x-python",
   "name": "python",
   "nbconvert_exporter": "python",
   "pygments_lexer": "ipython3",
   "version": "3.8.6"
  }
 },
 "nbformat": 4,
 "nbformat_minor": 5
}
